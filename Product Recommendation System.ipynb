{
 "cells": [
  {
   "attachments": {},
   "cell_type": "markdown",
   "id": "a06951c7",
   "metadata": {},
   "source": [
    "# Product Recommendation System\n",
    "- Recommending similar product based on text features.\n",
    "- Recommendation System is now a days very very common whether its e-commerce companies like Amazon, Flipkart, Myntra, etc.  "
   ]
  },
  {
   "attachments": {},
   "cell_type": "markdown",
   "id": "06e0727c",
   "metadata": {},
   "source": [
    "# Business Objective\n",
    "- Lots of people uses e-commerce platforms to buy a product. People are expecting to see similar products when one choose a product.\n",
    "- A model which can recommend people similar products is our Business Objective."
   ]
  },
  {
   "attachments": {},
   "cell_type": "markdown",
   "id": "7fb8c2e7",
   "metadata": {},
   "source": [
    "# Constaints\n",
    "\n",
    "1. Low Latency - In real time within in few nano seconds the model should be able to recommend similar product to people.\n",
    "\n",
    "2. Speed - We need speedy model not 100% accurate model. So accuracy is not important. \n",
    "\n",
    "3. Same product recommendation error - People doesn't like to see same product again and again.\n",
    "\n",
    "4. Interpretablity is important."
   ]
  },
  {
   "attachments": {},
   "cell_type": "markdown",
   "id": "566b13df",
   "metadata": {},
   "source": [
    "# Data\n",
    "- Data contains ladies tops fashion of amazon , initially data has 183k rows and 19 features.\n",
    "- Out of 19 features we will use only 7 importnt features.\n",
    "- By cleaning data we brought down the number of data points from 183K to 25K."
   ]
  },
  {
   "attachments": {},
   "cell_type": "markdown",
   "id": "f79e8f0b",
   "metadata": {},
   "source": [
    "# Approch\n",
    "- Titles are fairly descriptive of what the product is. \n",
    "- We will use title feature to recommend product as they are short and informative."
   ]
  },
  {
   "cell_type": "code",
   "execution_count": 113,
   "id": "5e0a225d",
   "metadata": {},
   "outputs": [],
   "source": [
    "#importing the libraries\n",
    "import numpy as np\n",
    "import pandas as pd\n",
    "import matplotlib.pyplot as plt\n",
    "from matplotlib import gridspec\n",
    "import seaborn as sns\n",
    "import re\n",
    "import math\n",
    "import time\n",
    "import os\n",
    "import requests\n",
    "from bs4 import BeautifulSoup\n",
    "import nltk\n",
    "from nltk.corpus import stopwords\n",
    "from nltk.tokenize import word_tokenize\n",
    "from collections import Counter\n",
    "from sklearn.feature_extraction.text import CountVectorizer\n",
    "from sklearn.feature_extraction.text import TfidfVectorizer\n",
    "from sklearn.metrics.pairwise import cosine_similarity  \n",
    "from sklearn.metrics import pairwise_distances\n",
    "from scipy.sparse import hstack\n",
    "from io import BytesIO\n",
    "from PIL import Image\n",
    "import warnings\n",
    "warnings.filterwarnings(\"ignore\")"
   ]
  },
  {
   "cell_type": "code",
   "execution_count": 114,
   "id": "cd582911",
   "metadata": {},
   "outputs": [],
   "source": [
    "# we have a json file which consists of all information about the products.\n",
    "data = pd.read_json('tops_fashion.json')"
   ]
  },
  {
   "cell_type": "code",
   "execution_count": 115,
   "id": "b9a65cfc",
   "metadata": {},
   "outputs": [
    {
     "name": "stdout",
     "output_type": "stream",
     "text": [
      "Number of data points : 183138 \n",
      "Number of features/variables: 19\n"
     ]
    }
   ],
   "source": [
    "print ('Number of data points :', data.shape[0], \\\n",
    "       '\\nNumber of features/variables:', data.shape[1])"
   ]
  },
  {
   "cell_type": "code",
   "execution_count": 116,
   "id": "199fec2d",
   "metadata": {},
   "outputs": [
    {
     "data": {
      "text/html": [
       "<div>\n",
       "<style scoped>\n",
       "    .dataframe tbody tr th:only-of-type {\n",
       "        vertical-align: middle;\n",
       "    }\n",
       "\n",
       "    .dataframe tbody tr th {\n",
       "        vertical-align: top;\n",
       "    }\n",
       "\n",
       "    .dataframe thead th {\n",
       "        text-align: right;\n",
       "    }\n",
       "</style>\n",
       "<table border=\"1\" class=\"dataframe\">\n",
       "  <thead>\n",
       "    <tr style=\"text-align: right;\">\n",
       "      <th></th>\n",
       "      <th>sku</th>\n",
       "      <th>asin</th>\n",
       "      <th>product_type_name</th>\n",
       "      <th>formatted_price</th>\n",
       "      <th>author</th>\n",
       "      <th>color</th>\n",
       "      <th>brand</th>\n",
       "      <th>publisher</th>\n",
       "      <th>availability</th>\n",
       "      <th>reviews</th>\n",
       "      <th>large_image_url</th>\n",
       "      <th>availability_type</th>\n",
       "      <th>small_image_url</th>\n",
       "      <th>editorial_review</th>\n",
       "      <th>title</th>\n",
       "      <th>model</th>\n",
       "      <th>medium_image_url</th>\n",
       "      <th>manufacturer</th>\n",
       "      <th>editorial_reivew</th>\n",
       "    </tr>\n",
       "  </thead>\n",
       "  <tbody>\n",
       "    <tr>\n",
       "      <th>0</th>\n",
       "      <td>None</td>\n",
       "      <td>B016I2TS4W</td>\n",
       "      <td>SHIRT</td>\n",
       "      <td>None</td>\n",
       "      <td>None</td>\n",
       "      <td>None</td>\n",
       "      <td>FNC7C</td>\n",
       "      <td>None</td>\n",
       "      <td>None</td>\n",
       "      <td>[False, https://www.amazon.com/reviews/iframe?...</td>\n",
       "      <td>https://images-na.ssl-images-amazon.com/images...</td>\n",
       "      <td>None</td>\n",
       "      <td>https://images-na.ssl-images-amazon.com/images...</td>\n",
       "      <td>Minions Como Superheroes Ironman Women's O Nec...</td>\n",
       "      <td>Minions Como Superheroes Ironman Long Sleeve R...</td>\n",
       "      <td>None</td>\n",
       "      <td>https://images-na.ssl-images-amazon.com/images...</td>\n",
       "      <td>None</td>\n",
       "      <td>NaN</td>\n",
       "    </tr>\n",
       "    <tr>\n",
       "      <th>1</th>\n",
       "      <td>None</td>\n",
       "      <td>B01N49AI08</td>\n",
       "      <td>SHIRT</td>\n",
       "      <td>None</td>\n",
       "      <td>None</td>\n",
       "      <td>None</td>\n",
       "      <td>FIG Clothing</td>\n",
       "      <td>None</td>\n",
       "      <td>None</td>\n",
       "      <td>[False, https://www.amazon.com/reviews/iframe?...</td>\n",
       "      <td>https://images-na.ssl-images-amazon.com/images...</td>\n",
       "      <td>None</td>\n",
       "      <td>https://images-na.ssl-images-amazon.com/images...</td>\n",
       "      <td>Sizing runs on the small side. FIG® recommends...</td>\n",
       "      <td>FIG Clothing Womens Izo Tunic</td>\n",
       "      <td>None</td>\n",
       "      <td>https://images-na.ssl-images-amazon.com/images...</td>\n",
       "      <td>None</td>\n",
       "      <td>NaN</td>\n",
       "    </tr>\n",
       "    <tr>\n",
       "      <th>2</th>\n",
       "      <td>None</td>\n",
       "      <td>B01JDPCOHO</td>\n",
       "      <td>SHIRT</td>\n",
       "      <td>None</td>\n",
       "      <td>None</td>\n",
       "      <td>None</td>\n",
       "      <td>FIG Clothing</td>\n",
       "      <td>None</td>\n",
       "      <td>None</td>\n",
       "      <td>[False, https://www.amazon.com/reviews/iframe?...</td>\n",
       "      <td>https://images-na.ssl-images-amazon.com/images...</td>\n",
       "      <td>None</td>\n",
       "      <td>https://images-na.ssl-images-amazon.com/images...</td>\n",
       "      <td>Sizing runs on the small side. FIG® recommends...</td>\n",
       "      <td>FIG Clothing Womens Won Top</td>\n",
       "      <td>None</td>\n",
       "      <td>https://images-na.ssl-images-amazon.com/images...</td>\n",
       "      <td>None</td>\n",
       "      <td>NaN</td>\n",
       "    </tr>\n",
       "    <tr>\n",
       "      <th>3</th>\n",
       "      <td>None</td>\n",
       "      <td>B01N19U5H5</td>\n",
       "      <td>SHIRT</td>\n",
       "      <td>None</td>\n",
       "      <td>None</td>\n",
       "      <td>None</td>\n",
       "      <td>Focal18</td>\n",
       "      <td>None</td>\n",
       "      <td>None</td>\n",
       "      <td>[True, https://www.amazon.com/reviews/iframe?a...</td>\n",
       "      <td>https://images-na.ssl-images-amazon.com/images...</td>\n",
       "      <td>None</td>\n",
       "      <td>https://images-na.ssl-images-amazon.com/images...</td>\n",
       "      <td>100% Brand New &amp; Fashion&lt;br&gt; Quantity: 1 Piece...</td>\n",
       "      <td>Focal18 Sailor Collar Bubble Sleeve Blouse Shi...</td>\n",
       "      <td>None</td>\n",
       "      <td>https://images-na.ssl-images-amazon.com/images...</td>\n",
       "      <td>None</td>\n",
       "      <td>NaN</td>\n",
       "    </tr>\n",
       "    <tr>\n",
       "      <th>4</th>\n",
       "      <td>None</td>\n",
       "      <td>B004GSI2OS</td>\n",
       "      <td>SHIRT</td>\n",
       "      <td>$26.26</td>\n",
       "      <td>None</td>\n",
       "      <td>Onyx Black/ Stone</td>\n",
       "      <td>FeatherLite</td>\n",
       "      <td>None</td>\n",
       "      <td>Usually ships in 6-10 business days</td>\n",
       "      <td>[False, https://www.amazon.com/reviews/iframe?...</td>\n",
       "      <td>https://images-na.ssl-images-amazon.com/images...</td>\n",
       "      <td>now</td>\n",
       "      <td>https://images-na.ssl-images-amazon.com/images...</td>\n",
       "      <td></td>\n",
       "      <td>Featherlite Ladies' Long Sleeve Stain Resistan...</td>\n",
       "      <td>None</td>\n",
       "      <td>https://images-na.ssl-images-amazon.com/images...</td>\n",
       "      <td>None</td>\n",
       "      <td>NaN</td>\n",
       "    </tr>\n",
       "  </tbody>\n",
       "</table>\n",
       "</div>"
      ],
      "text/plain": [
       "    sku        asin product_type_name formatted_price author  \\\n",
       "0  None  B016I2TS4W             SHIRT            None   None   \n",
       "1  None  B01N49AI08             SHIRT            None   None   \n",
       "2  None  B01JDPCOHO             SHIRT            None   None   \n",
       "3  None  B01N19U5H5             SHIRT            None   None   \n",
       "4  None  B004GSI2OS             SHIRT          $26.26   None   \n",
       "\n",
       "               color         brand publisher  \\\n",
       "0               None         FNC7C      None   \n",
       "1               None  FIG Clothing      None   \n",
       "2               None  FIG Clothing      None   \n",
       "3               None       Focal18      None   \n",
       "4  Onyx Black/ Stone   FeatherLite      None   \n",
       "\n",
       "                          availability  \\\n",
       "0                                 None   \n",
       "1                                 None   \n",
       "2                                 None   \n",
       "3                                 None   \n",
       "4  Usually ships in 6-10 business days   \n",
       "\n",
       "                                             reviews  \\\n",
       "0  [False, https://www.amazon.com/reviews/iframe?...   \n",
       "1  [False, https://www.amazon.com/reviews/iframe?...   \n",
       "2  [False, https://www.amazon.com/reviews/iframe?...   \n",
       "3  [True, https://www.amazon.com/reviews/iframe?a...   \n",
       "4  [False, https://www.amazon.com/reviews/iframe?...   \n",
       "\n",
       "                                     large_image_url availability_type  \\\n",
       "0  https://images-na.ssl-images-amazon.com/images...              None   \n",
       "1  https://images-na.ssl-images-amazon.com/images...              None   \n",
       "2  https://images-na.ssl-images-amazon.com/images...              None   \n",
       "3  https://images-na.ssl-images-amazon.com/images...              None   \n",
       "4  https://images-na.ssl-images-amazon.com/images...               now   \n",
       "\n",
       "                                     small_image_url  \\\n",
       "0  https://images-na.ssl-images-amazon.com/images...   \n",
       "1  https://images-na.ssl-images-amazon.com/images...   \n",
       "2  https://images-na.ssl-images-amazon.com/images...   \n",
       "3  https://images-na.ssl-images-amazon.com/images...   \n",
       "4  https://images-na.ssl-images-amazon.com/images...   \n",
       "\n",
       "                                    editorial_review  \\\n",
       "0  Minions Como Superheroes Ironman Women's O Nec...   \n",
       "1  Sizing runs on the small side. FIG® recommends...   \n",
       "2  Sizing runs on the small side. FIG® recommends...   \n",
       "3  100% Brand New & Fashion<br> Quantity: 1 Piece...   \n",
       "4                                                      \n",
       "\n",
       "                                               title model  \\\n",
       "0  Minions Como Superheroes Ironman Long Sleeve R...  None   \n",
       "1                      FIG Clothing Womens Izo Tunic  None   \n",
       "2                        FIG Clothing Womens Won Top  None   \n",
       "3  Focal18 Sailor Collar Bubble Sleeve Blouse Shi...  None   \n",
       "4  Featherlite Ladies' Long Sleeve Stain Resistan...  None   \n",
       "\n",
       "                                    medium_image_url manufacturer  \\\n",
       "0  https://images-na.ssl-images-amazon.com/images...         None   \n",
       "1  https://images-na.ssl-images-amazon.com/images...         None   \n",
       "2  https://images-na.ssl-images-amazon.com/images...         None   \n",
       "3  https://images-na.ssl-images-amazon.com/images...         None   \n",
       "4  https://images-na.ssl-images-amazon.com/images...         None   \n",
       "\n",
       "  editorial_reivew  \n",
       "0              NaN  \n",
       "1              NaN  \n",
       "2              NaN  \n",
       "3              NaN  \n",
       "4              NaN  "
      ]
     },
     "execution_count": 116,
     "metadata": {},
     "output_type": "execute_result"
    }
   ],
   "source": [
    "data.head() "
   ]
  },
  {
   "cell_type": "code",
   "execution_count": 117,
   "id": "01cf605b",
   "metadata": {},
   "outputs": [
    {
     "data": {
      "text/plain": [
       "Index(['sku', 'asin', 'product_type_name', 'formatted_price', 'author',\n",
       "       'color', 'brand', 'publisher', 'availability', 'reviews',\n",
       "       'large_image_url', 'availability_type', 'small_image_url',\n",
       "       'editorial_review', 'title', 'model', 'medium_image_url',\n",
       "       'manufacturer', 'editorial_reivew'],\n",
       "      dtype='object')"
      ]
     },
     "execution_count": 117,
     "metadata": {},
     "output_type": "execute_result"
    }
   ],
   "source": [
    "# Lets see features we have in dataset.\n",
    "data.columns"
   ]
  },
  {
   "attachments": {},
   "cell_type": "markdown",
   "id": "e67be087",
   "metadata": {},
   "source": [
    "Of these 19 features, we will be using only 7 features in this project.\n",
    "- 1. asin  (Amazon standard identification number)\n",
    "- 2. brand (brand name of the product)\n",
    "- 3. medium_image_url  (url of the product image)\n",
    "- 4. product_type_name (type of the product)\n",
    "- 5. color (color information of the product) \n",
    "- 6. title (title of the product)\n",
    "- 7. formatted_price (price of the product)"
   ]
  },
  {
   "cell_type": "code",
   "execution_count": 118,
   "id": "ac5ddafa",
   "metadata": {},
   "outputs": [],
   "source": [
    "data = data[['asin', 'brand', 'medium_image_url', 'product_type_name', 'color', 'title', 'formatted_price']]"
   ]
  },
  {
   "cell_type": "code",
   "execution_count": 119,
   "id": "8167572b",
   "metadata": {},
   "outputs": [
    {
     "name": "stdout",
     "output_type": "stream",
     "text": [
      "Number of data points : 183138 \n",
      "Number of features: 7\n"
     ]
    },
    {
     "data": {
      "text/html": [
       "<div>\n",
       "<style scoped>\n",
       "    .dataframe tbody tr th:only-of-type {\n",
       "        vertical-align: middle;\n",
       "    }\n",
       "\n",
       "    .dataframe tbody tr th {\n",
       "        vertical-align: top;\n",
       "    }\n",
       "\n",
       "    .dataframe thead th {\n",
       "        text-align: right;\n",
       "    }\n",
       "</style>\n",
       "<table border=\"1\" class=\"dataframe\">\n",
       "  <thead>\n",
       "    <tr style=\"text-align: right;\">\n",
       "      <th></th>\n",
       "      <th>asin</th>\n",
       "      <th>brand</th>\n",
       "      <th>medium_image_url</th>\n",
       "      <th>product_type_name</th>\n",
       "      <th>color</th>\n",
       "      <th>title</th>\n",
       "      <th>formatted_price</th>\n",
       "    </tr>\n",
       "  </thead>\n",
       "  <tbody>\n",
       "    <tr>\n",
       "      <th>0</th>\n",
       "      <td>B016I2TS4W</td>\n",
       "      <td>FNC7C</td>\n",
       "      <td>https://images-na.ssl-images-amazon.com/images...</td>\n",
       "      <td>SHIRT</td>\n",
       "      <td>None</td>\n",
       "      <td>Minions Como Superheroes Ironman Long Sleeve R...</td>\n",
       "      <td>None</td>\n",
       "    </tr>\n",
       "    <tr>\n",
       "      <th>1</th>\n",
       "      <td>B01N49AI08</td>\n",
       "      <td>FIG Clothing</td>\n",
       "      <td>https://images-na.ssl-images-amazon.com/images...</td>\n",
       "      <td>SHIRT</td>\n",
       "      <td>None</td>\n",
       "      <td>FIG Clothing Womens Izo Tunic</td>\n",
       "      <td>None</td>\n",
       "    </tr>\n",
       "    <tr>\n",
       "      <th>2</th>\n",
       "      <td>B01JDPCOHO</td>\n",
       "      <td>FIG Clothing</td>\n",
       "      <td>https://images-na.ssl-images-amazon.com/images...</td>\n",
       "      <td>SHIRT</td>\n",
       "      <td>None</td>\n",
       "      <td>FIG Clothing Womens Won Top</td>\n",
       "      <td>None</td>\n",
       "    </tr>\n",
       "    <tr>\n",
       "      <th>3</th>\n",
       "      <td>B01N19U5H5</td>\n",
       "      <td>Focal18</td>\n",
       "      <td>https://images-na.ssl-images-amazon.com/images...</td>\n",
       "      <td>SHIRT</td>\n",
       "      <td>None</td>\n",
       "      <td>Focal18 Sailor Collar Bubble Sleeve Blouse Shi...</td>\n",
       "      <td>None</td>\n",
       "    </tr>\n",
       "    <tr>\n",
       "      <th>4</th>\n",
       "      <td>B004GSI2OS</td>\n",
       "      <td>FeatherLite</td>\n",
       "      <td>https://images-na.ssl-images-amazon.com/images...</td>\n",
       "      <td>SHIRT</td>\n",
       "      <td>Onyx Black/ Stone</td>\n",
       "      <td>Featherlite Ladies' Long Sleeve Stain Resistan...</td>\n",
       "      <td>$26.26</td>\n",
       "    </tr>\n",
       "  </tbody>\n",
       "</table>\n",
       "</div>"
      ],
      "text/plain": [
       "         asin         brand  \\\n",
       "0  B016I2TS4W         FNC7C   \n",
       "1  B01N49AI08  FIG Clothing   \n",
       "2  B01JDPCOHO  FIG Clothing   \n",
       "3  B01N19U5H5       Focal18   \n",
       "4  B004GSI2OS   FeatherLite   \n",
       "\n",
       "                                    medium_image_url product_type_name  \\\n",
       "0  https://images-na.ssl-images-amazon.com/images...             SHIRT   \n",
       "1  https://images-na.ssl-images-amazon.com/images...             SHIRT   \n",
       "2  https://images-na.ssl-images-amazon.com/images...             SHIRT   \n",
       "3  https://images-na.ssl-images-amazon.com/images...             SHIRT   \n",
       "4  https://images-na.ssl-images-amazon.com/images...             SHIRT   \n",
       "\n",
       "               color                                              title  \\\n",
       "0               None  Minions Como Superheroes Ironman Long Sleeve R...   \n",
       "1               None                      FIG Clothing Womens Izo Tunic   \n",
       "2               None                        FIG Clothing Womens Won Top   \n",
       "3               None  Focal18 Sailor Collar Bubble Sleeve Blouse Shi...   \n",
       "4  Onyx Black/ Stone  Featherlite Ladies' Long Sleeve Stain Resistan...   \n",
       "\n",
       "  formatted_price  \n",
       "0            None  \n",
       "1            None  \n",
       "2            None  \n",
       "3            None  \n",
       "4          $26.26  "
      ]
     },
     "execution_count": 119,
     "metadata": {},
     "output_type": "execute_result"
    }
   ],
   "source": [
    "print ('Number of data points :', data.shape[0], \\\n",
    "       '\\nNumber of features:', data.shape[1])\n",
    "data.head()"
   ]
  },
  {
   "attachments": {},
   "cell_type": "markdown",
   "id": "a1f02571",
   "metadata": {},
   "source": [
    "- Lets understand each feature in detail"
   ]
  },
  {
   "cell_type": "code",
   "execution_count": 120,
   "id": "38bb1028",
   "metadata": {},
   "outputs": [
    {
     "data": {
      "text/html": [
       "<div>\n",
       "<style scoped>\n",
       "    .dataframe tbody tr th:only-of-type {\n",
       "        vertical-align: middle;\n",
       "    }\n",
       "\n",
       "    .dataframe tbody tr th {\n",
       "        vertical-align: top;\n",
       "    }\n",
       "\n",
       "    .dataframe thead th {\n",
       "        text-align: right;\n",
       "    }\n",
       "</style>\n",
       "<table border=\"1\" class=\"dataframe\">\n",
       "  <thead>\n",
       "    <tr style=\"text-align: right;\">\n",
       "      <th></th>\n",
       "      <th>asin</th>\n",
       "      <th>brand</th>\n",
       "      <th>medium_image_url</th>\n",
       "      <th>product_type_name</th>\n",
       "      <th>color</th>\n",
       "      <th>title</th>\n",
       "      <th>formatted_price</th>\n",
       "    </tr>\n",
       "  </thead>\n",
       "  <tbody>\n",
       "    <tr>\n",
       "      <th>count</th>\n",
       "      <td>183138</td>\n",
       "      <td>182987</td>\n",
       "      <td>183138</td>\n",
       "      <td>183138</td>\n",
       "      <td>64956</td>\n",
       "      <td>183138</td>\n",
       "      <td>28395</td>\n",
       "    </tr>\n",
       "    <tr>\n",
       "      <th>unique</th>\n",
       "      <td>183138</td>\n",
       "      <td>10577</td>\n",
       "      <td>170782</td>\n",
       "      <td>72</td>\n",
       "      <td>7380</td>\n",
       "      <td>175985</td>\n",
       "      <td>3135</td>\n",
       "    </tr>\n",
       "    <tr>\n",
       "      <th>top</th>\n",
       "      <td>B016I2TS4W</td>\n",
       "      <td>Zago</td>\n",
       "      <td>https://images-na.ssl-images-amazon.com/images...</td>\n",
       "      <td>SHIRT</td>\n",
       "      <td>Black</td>\n",
       "      <td>Nakoda Cotton Self Print Straight Kurti For Women</td>\n",
       "      <td>$19.99</td>\n",
       "    </tr>\n",
       "    <tr>\n",
       "      <th>freq</th>\n",
       "      <td>1</td>\n",
       "      <td>223</td>\n",
       "      <td>23</td>\n",
       "      <td>167794</td>\n",
       "      <td>13207</td>\n",
       "      <td>77</td>\n",
       "      <td>945</td>\n",
       "    </tr>\n",
       "  </tbody>\n",
       "</table>\n",
       "</div>"
      ],
      "text/plain": [
       "              asin   brand                                   medium_image_url  \\\n",
       "count       183138  182987                                             183138   \n",
       "unique      183138   10577                                             170782   \n",
       "top     B016I2TS4W    Zago  https://images-na.ssl-images-amazon.com/images...   \n",
       "freq             1     223                                                 23   \n",
       "\n",
       "       product_type_name  color  \\\n",
       "count             183138  64956   \n",
       "unique                72   7380   \n",
       "top                SHIRT  Black   \n",
       "freq              167794  13207   \n",
       "\n",
       "                                                    title formatted_price  \n",
       "count                                              183138           28395  \n",
       "unique                                             175985            3135  \n",
       "top     Nakoda Cotton Self Print Straight Kurti For Women          $19.99  \n",
       "freq                                                   77             945  "
      ]
     },
     "execution_count": 120,
     "metadata": {},
     "output_type": "execute_result"
    }
   ],
   "source": [
    "data.describe()"
   ]
  },
  {
   "attachments": {},
   "cell_type": "markdown",
   "id": "88a6a079",
   "metadata": {},
   "source": [
    "# 1. \"asin\" feature"
   ]
  },
  {
   "cell_type": "code",
   "execution_count": 121,
   "id": "ca876696",
   "metadata": {},
   "outputs": [
    {
     "name": "stdout",
     "output_type": "stream",
     "text": [
      "Products 183138\n",
      "count         183138\n",
      "unique        183138\n",
      "top       B016I2TS4W\n",
      "freq               1\n",
      "Name: asin, dtype: object\n",
      "- All products have 'asin' information\n",
      "- Each products have unique 'asin' information\n"
     ]
    }
   ],
   "source": [
    "print(\"Products\",data.shape[0])\n",
    "print(data['asin'].describe())\n",
    "if data['asin'].isnull().sum() == 0:\n",
    "    print(\"- All products have 'asin' information\")\n",
    "else:\n",
    "    print(\"- {0} products does not have 'asin' information.\".format(data['asin'].isnull().sum()))\n",
    "if data['asin'].duplicated().sum() == 0:\n",
    "    print(\"- Each products have unique 'asin' information\")\n",
    "else:\n",
    "    print(\"- {0} products have same 'asin' information.\".format(data['asin'].duplicated().sum()))"
   ]
  },
  {
   "attachments": {},
   "cell_type": "markdown",
   "id": "4658ed16",
   "metadata": {},
   "source": [
    "# 2. \"brand\" feature "
   ]
  },
  {
   "cell_type": "code",
   "execution_count": 122,
   "id": "f85d708b",
   "metadata": {},
   "outputs": [
    {
     "name": "stdout",
     "output_type": "stream",
     "text": [
      "Products  183138\n",
      "count     182987\n",
      "unique     10577\n",
      "top         Zago\n",
      "freq         223\n",
      "Name: brand, dtype: object\n",
      "- 151 products does not have 'brand' information.\n",
      "- 172560 products have same 'brand' information.\n"
     ]
    }
   ],
   "source": [
    "print(\"Products \",data.shape[0])\n",
    "print(data['brand'].describe())\n",
    "if data['brand'].isnull().sum() == 0:\n",
    "    print(\"- All products have 'brand' information\")\n",
    "else:\n",
    "    print(\"- {0} products does not have 'brand' information.\".format(data['brand'].isnull().sum()))\n",
    "if data['brand'].duplicated().sum() == 0:\n",
    "    print(\"- Each products have unique 'brand' information\")\n",
    "else:\n",
    "    print(\"- {0} products have same 'brand' information.\".format(data['brand'].duplicated().sum()))"
   ]
  },
  {
   "attachments": {},
   "cell_type": "markdown",
   "id": "8dd7f8da",
   "metadata": {},
   "source": [
    "- 182987 of 183138 products have 'brand' information. That's apporx 99.91%\n",
    "- We have 10577 unique 'brand'.\n",
    "- 2.1% (223/10577) of the brands are 'Zago'.\n",
    "- Same brands have different products, so will only drop missing 'brand' value information.\n",
    "- Let's drop 151 data points / rows that does not have 'brand' information."
   ]
  },
  {
   "cell_type": "code",
   "execution_count": 124,
   "id": "bfb7af02",
   "metadata": {},
   "outputs": [
    {
     "name": "stdout",
     "output_type": "stream",
     "text": [
      "FIG Clothing Womens Izo Tunic\n",
      "FIG Clothing\n",
      "\n",
      "FIG Clothing Womens Won Top\n",
      "FIG Clothing\n",
      "\n",
      "FIG Clothing Womens Mag Top\n",
      "FIG Clothing\n",
      "\n",
      "FIG Clothing Womens Zof Top\n",
      "FIG Clothing\n",
      "\n",
      "FIG Clothing Womens Tuc Top\n",
      "FIG Clothing\n",
      "\n",
      "FIG Clothing Women's Dublin Top Macaroon Shirt\n",
      "FIG Clothing\n",
      "\n"
     ]
    }
   ],
   "source": [
    "# for duplicate in range(len(data['brand'].duplicated())):\n",
    "#     if data['brand'].duplicated()[duplicate] == True:\n",
    "#         duplicate_df = data[data['brand'] == data['brand'][duplicate]]\n",
    "#         duplicate_df = duplicate_df.reset_index(drop=True)\n",
    "#         break\n",
    "# for i in range(duplicate_df.shape[0]):\n",
    "#     print(duplicate_df['title'][i])\n",
    "#     print(duplicate_df['brand'][i])\n",
    "#     print()\n",
    "#     if i >= 5:\n",
    "#         break"
   ]
  },
  {
   "cell_type": "code",
   "execution_count": 125,
   "id": "91f810cf",
   "metadata": {},
   "outputs": [
    {
     "name": "stdout",
     "output_type": "stream",
     "text": [
      "- Number of data points after eliminating 'brand' = NULL : 182987\n"
     ]
    }
   ],
   "source": [
    "data =data.loc[~data['brand'].isnull()]\n",
    "\n",
    "# Reset dataframe index.\n",
    "data = data.reset_index(drop=True)\n",
    "print(\"- Number of data points after eliminating brand = NULL :\", data.shape[0])"
   ]
  },
  {
   "cell_type": "code",
   "execution_count": 126,
   "id": "b358e86c",
   "metadata": {},
   "outputs": [
    {
     "name": "stdout",
     "output_type": "stream",
     "text": [
      "Zago - 223\n",
      "XQS - 222\n",
      "Yayun - 215\n",
      "YUNY - 198\n",
      "XiaoTianXin-women clothes - 193\n",
      "Generic - 192\n",
      "Boohoo - 190\n",
      "Alion - 188\n",
      "Abetteric - 187\n",
      "TheMogan - 187\n"
     ]
    }
   ],
   "source": [
    "# Let's print top 10 'brand' and their frequency\n",
    "brand_count = Counter(list(data['brand']))\n",
    "for i in range(10):\n",
    "    print(\"{0} - {1}\".format(brand_count.most_common()[i][0],brand_count.most_common()[i][1])) "
   ]
  },
  {
   "attachments": {},
   "cell_type": "markdown",
   "id": "f519b9d5",
   "metadata": {},
   "source": [
    "# 3. \"medium_image_url\" feature "
   ]
  },
  {
   "cell_type": "code",
   "execution_count": 127,
   "id": "682b6f33",
   "metadata": {},
   "outputs": [
    {
     "name": "stdout",
     "output_type": "stream",
     "text": [
      "Products 182987\n",
      "count                                                182987\n",
      "unique                                               170667\n",
      "top       https://images-na.ssl-images-amazon.com/images...\n",
      "freq                                                     23\n",
      "Name: medium_image_url, dtype: object\n",
      "- All products have 'medium_image_url' information\n",
      "- 12320 products have same 'medium_image_url' information.\n"
     ]
    }
   ],
   "source": [
    "print(\"Products\",data.shape[0])\n",
    "print(data['medium_image_url'].describe())\n",
    "if data['medium_image_url'].isnull().sum() == 0:\n",
    "    print(\"- All products have 'medium_image_url' information\")\n",
    "else:\n",
    "    print(\"- {0} products does not have 'medium_image_url' information.\".format(data['medium_image_url'].isnull().sum()))\n",
    "if data['medium_image_url'].duplicated().sum() == 0:\n",
    "    print(\"- Each products have unique 'medium_image_url' information\")\n",
    "else:\n",
    "    print(\"- {0} products have same 'medium_image_url' information.\".format(data['medium_image_url'].duplicated().sum()))"
   ]
  },
  {
   "attachments": {},
   "cell_type": "markdown",
   "id": "b2200f61",
   "metadata": {},
   "source": [
    "- All of the products have image URL.\n",
    "- But we have only 1,70,667 unique 'medium_image_url'.\n",
    "- Some products have same image URL so lets check 'title' information for that URLs."
   ]
  },
  {
   "cell_type": "code",
   "execution_count": null,
   "id": "3e1dfcc0",
   "metadata": {},
   "outputs": [],
   "source": [
    "# duplicate = 0\n",
    "# for duplicate in range(len(data['medium_image_url'].duplicated())):\n",
    "#     # print(data['medium_image_url'].duplicated()[duplicate])\n",
    "#     # print(data['medium_image_url'][duplicate])\n",
    "\n",
    "#     if data['medium_image_url'].duplicated()[duplicate] == True:\n",
    "#         duplicate_df = data[data['medium_image_url'] == data['medium_image_url'][duplicate]]\n",
    "#         print(data['brand'][duplicate])\n",
    "#         print(data['title'][duplicate])\n",
    "#         print(data['medium_image_url'][duplicate])\n",
    "#         break\n",
    "    "
   ]
  },
  {
   "cell_type": "code",
   "execution_count": 112,
   "id": "b67b6375",
   "metadata": {},
   "outputs": [
    {
     "name": "stdout",
     "output_type": "stream",
     "text": [
      "Supernatural Chibis Sam Dean And Castiel Short Sleeve T Shirts For Lady Purple S\n",
      "https://images-na.ssl-images-amazon.com/images/I/41Cn7jZ3O9L._SL160_.jpg\n",
      "\n",
      "Supernatural Chibis Sam Dean And Castiel O Neck T-shirts For Female Purple L\n",
      "https://images-na.ssl-images-amazon.com/images/I/41Cn7jZ3O9L._SL160_.jpg\n",
      "\n",
      "Supernatural Chibis Sam Dean And Castiel 100% Cotton T Shirts For Women Purple XXL\n",
      "https://images-na.ssl-images-amazon.com/images/I/41Cn7jZ3O9L._SL160_.jpg\n",
      "\n"
     ]
    }
   ],
   "source": [
    "for duplicate in range(len(data['medium_image_url'].duplicated())):\n",
    "    if data['medium_image_url'].duplicated()[duplicate] == True:\n",
    "        duplicate_df = data[data['medium_image_url'] == data['medium_image_url'][duplicate]]\n",
    "        duplicate_df = duplicate_df.reset_index(drop=True)\n",
    "        break\n",
    "for i in range(duplicate_df.shape[0]):\n",
    "    print(duplicate_df['medium_image_url'][i])\n",
    "    print(duplicate_df['title'][i])\n",
    "    print()"
   ]
  },
  {
   "attachments": {},
   "cell_type": "markdown",
   "id": "3f7a0a7a",
   "metadata": {},
   "source": [
    "- From above titles and URLs it is clear that,some products may have same image URL but their title is different.\n",
    "- So will 'not' drop those data points having same image 'URL'."
   ]
  },
  {
   "cell_type": "code",
   "execution_count": 69,
   "id": "5a9d6cd3",
   "metadata": {},
   "outputs": [
    {
     "name": "stdout",
     "output_type": "stream",
     "text": [
      "Number of data points after eliminating 'medium_image_url' = NULL : 170667\n"
     ]
    }
   ],
   "source": [
    "# # Let's drop duplicate URL\n",
    "# data['medium_image_url'] = data['medium_image_url'].drop_duplicates()\n",
    "\n",
    "# # Now we will drop data points that have 'Null/None\" 'medium_image_url'.\n",
    "# data = data.loc[~data['medium_image_url'].isnull()]\n",
    "\n",
    "# # Reset index of data farme.\n",
    "# data = data.reset_index(drop=True)\n",
    "# print(\"Number of data points after eliminating 'medium_image_url' = NULL :\", data.shape[0])"
   ]
  },
  {
   "attachments": {},
   "cell_type": "markdown",
   "id": "1eeed74b",
   "metadata": {},
   "source": [
    "# 4. \"product_type_name\" feature "
   ]
  },
  {
   "cell_type": "code",
   "execution_count": 128,
   "id": "68bc300a",
   "metadata": {},
   "outputs": [
    {
     "name": "stdout",
     "output_type": "stream",
     "text": [
      "Products  182987\n",
      "count     182987\n",
      "unique        72\n",
      "top        SHIRT\n",
      "freq      167741\n",
      "Name: product_type_name, dtype: object\n",
      " - All products have 'product_type_name' information\n",
      "- 182915 products have same 'product_type_name' information.\n"
     ]
    }
   ],
   "source": [
    "print(\"Products \",data.shape[0])\n",
    "print(data['product_type_name'].describe())\n",
    "if data['product_type_name'].isnull().sum() == 0:\n",
    "    print(\"- All products have 'product_type_name' information\")\n",
    "else:\n",
    "    print(\"- {0} products does not have 'product_type_name' information.\".format(data['product_type_name'].isnull().sum()))\n",
    "if data['product_type_name'].duplicated().sum() == 0:\n",
    "    print(\"- Each products have unique 'product_type_name' information\")\n",
    "else:\n",
    "    print(\"- {0} products have same 'product_type_name' information.\".format(data['product_type_name'].duplicated().sum()))"
   ]
  },
  {
   "attachments": {},
   "cell_type": "markdown",
   "id": "d3a4c645",
   "metadata": {},
   "source": [
    "- All products have 'product_type_name'.\n",
    "- We have total 72 unique type of 'product_type_name'.\n",
    "- 91.62% (167794/183138) of the products are shirts.\n",
    "- Let's check 'title' information for same 'product_type_name'."
   ]
  },
  {
   "cell_type": "code",
   "execution_count": 129,
   "id": "6ddc4ad1",
   "metadata": {},
   "outputs": [
    {
     "name": "stdout",
     "output_type": "stream",
     "text": [
      "SHIRT\n",
      "Minions Como Superheroes Ironman Long Sleeve Round Neck T-Shirt For Women\n",
      "\n",
      "SHIRT\n",
      "FIG Clothing Womens Izo Tunic\n",
      "\n",
      "SHIRT\n",
      "FIG Clothing Womens Won Top\n",
      "\n",
      "SHIRT\n",
      "Focal18 Sailor Collar Bubble Sleeve Blouse Shirt Women Mori Girl Casual Top Harajuku\n",
      "\n",
      "SHIRT\n",
      "Featherlite Ladies' Long Sleeve Stain Resistant Tapered Twill Shirt, 2XL, Onyx Black/ Stone\n",
      "\n",
      "SHIRT\n",
      "[Fits Cloth] Grape Solid Modern Long Sleeve Plain T Shirt\n",
      "\n"
     ]
    }
   ],
   "source": [
    "for duplicate in range(len(data['product_type_name'].duplicated())):\n",
    "    if data['product_type_name'].duplicated()[duplicate] == True:\n",
    "        duplicate_df = data[data['product_type_name'] == data['product_type_name'][duplicate]]\n",
    "        duplicate_df = duplicate_df.reset_index(drop=True)\n",
    "        break\n",
    "for i in range(duplicate_df.shape[0]):\n",
    "    print(duplicate_df['product_type_name'][i])\n",
    "    print(duplicate_df['title'][i])\n",
    "    print()\n",
    "    if i >= 5:\n",
    "        break"
   ]
  },
  {
   "attachments": {},
   "cell_type": "markdown",
   "id": "abda3893",
   "metadata": {},
   "source": [
    "- It is clear that, for same 'product_type_name' we have different 'title' information."
   ]
  },
  {
   "cell_type": "code",
   "execution_count": 130,
   "id": "8c153d56",
   "metadata": {},
   "outputs": [
    {
     "name": "stdout",
     "output_type": "stream",
     "text": [
      "SHIRT - 167741\n",
      "APPAREL - 3548\n",
      "BOOKS_1973_AND_LATER - 3336\n",
      "DRESS - 1584\n",
      "SPORTING_GOODS - 1272\n",
      "SWEATER - 837\n",
      "OUTERWEAR - 796\n",
      "OUTDOOR_RECREATION_PRODUCT - 729\n",
      "ACCESSORY - 636\n",
      "UNDERWEAR - 425\n"
     ]
    }
   ],
   "source": [
    "# Let's print top 10 'product_type_name' and their frequency\n",
    "product_list=Counter(data['product_type_name'])\n",
    "for i in range(10):\n",
    "    print(\"{0} - {1}\".format(product_list.most_common()[i][0],product_list.most_common()[i][1])) "
   ]
  },
  {
   "attachments": {},
   "cell_type": "markdown",
   "id": "69b0165b",
   "metadata": {},
   "source": [
    "# 5. \"color\" feature "
   ]
  },
  {
   "cell_type": "code",
   "execution_count": 131,
   "id": "b291d1e4",
   "metadata": {},
   "outputs": [
    {
     "name": "stdout",
     "output_type": "stream",
     "text": [
      "Products  182987\n",
      "count     64843\n",
      "unique     7377\n",
      "top       Black\n",
      "freq      13181\n",
      "Name: color, dtype: object\n",
      "- 118144 products does not have 'color' information.\n",
      "- 175609 products have same 'color' information.\n"
     ]
    }
   ],
   "source": [
    "print(\"Products \",data.shape[0])\n",
    "print(data['color'].describe())\n",
    "if data['color'].isnull().sum() == 0:\n",
    "    print(\"- All products have 'color' information\")\n",
    "else:\n",
    "    print(\"- {0} products does not have 'color' information.\".format(data['color'].isnull().sum()))\n",
    "if data['color'].duplicated().sum() == 0:\n",
    "    print(\"- Each products have unique 'color' information\")\n",
    "else:\n",
    "    print(\"- {0} products have same 'color' information.\".format(data['color'].duplicated().sum()))"
   ]
  },
  {
   "attachments": {},
   "cell_type": "markdown",
   "id": "36a1d22a",
   "metadata": {},
   "source": [
    "- 64843 of 182987 products have color information. That's approx 35.4%.\n",
    "- We have 7377 unique 'colors'\n",
    "- 11.37% of products are black in color.\n",
    "- Let's drop records that does not have color information"
   ]
  },
  {
   "cell_type": "code",
   "execution_count": 142,
   "id": "08e5690e",
   "metadata": {},
   "outputs": [
    {
     "name": "stdout",
     "output_type": "stream",
     "text": [
      "Number of data points after eliminating color = NULL : 64843\n"
     ]
    }
   ],
   "source": [
    "data =data.loc[~data['color'].isnull()]\n",
    "\n",
    "# Reset dataframe index.\n",
    "data = data.reset_index(drop=True)\n",
    "print('Number of data points after eliminating color = NULL :', data.shape[0])"
   ]
  },
  {
   "attachments": {},
   "cell_type": "markdown",
   "id": "d52407ec",
   "metadata": {},
   "source": [
    "- Let's check 'title' information for same 'color' information."
   ]
  },
  {
   "cell_type": "code",
   "execution_count": 143,
   "id": "11108f61",
   "metadata": {},
   "outputs": [
    {
     "name": "stdout",
     "output_type": "stream",
     "text": [
      "Black\n",
      "Standing on His Promises Rhinestones T-Shirt Ripped Cut Out Red Long\n",
      "\n",
      "Black\n",
      "Ladies Cotton Tank 2x1 Ribbed Tank Top\n",
      "\n",
      "Black\n",
      "Sexy Open Shoulder X Long Soft Shark Hemline Womans Plus Blouse Top 1x2x3x\n",
      "\n",
      "Black\n",
      "Women Roses Patch & Rhinestones T-Shirt Ripped Cut Out Short 01\n",
      "\n",
      "Black\n",
      "[Fits Cloth] Black Days Like Bless Plain T Shirt\n",
      "\n",
      "Black\n",
      "Fifth Degree Womens Gold Foil Graphic Tees Junior Top Short Sleeve Printed T Shirt - L\n",
      "\n"
     ]
    }
   ],
   "source": [
    "for duplicate in range(len(data['color'].duplicated())):\n",
    "    if data['color'].duplicated()[duplicate] == True:\n",
    "        duplicate_df = data[data['color'] == data['color'][duplicate]]\n",
    "        duplicate_df = duplicate_df.reset_index(drop=True)\n",
    "        break\n",
    "for i in range(duplicate_df.shape[0]):\n",
    "    print(duplicate_df['color'][i])\n",
    "    print(duplicate_df['title'][i])\n",
    "    print()\n",
    "    if i >= 5:\n",
    "        break"
   ]
  },
  {
   "attachments": {},
   "cell_type": "markdown",
   "id": "1ea92266",
   "metadata": {},
   "source": [
    "- It is clear that, same color information have different titles."
   ]
  },
  {
   "cell_type": "code",
   "execution_count": 144,
   "id": "478e02ca",
   "metadata": {},
   "outputs": [
    {
     "name": "stdout",
     "output_type": "stream",
     "text": [
      "Black - 13181\n",
      "White - 8599\n",
      "Blue - 3558\n",
      "Red - 2283\n",
      "Pink - 1837\n",
      "Grey - 1496\n",
      "* - 1388\n",
      "Green - 1257\n",
      "Multi - 1203\n",
      "Gray - 1189\n"
     ]
    }
   ],
   "source": [
    "# Let's print top 10 'color' and their frequency\n",
    "color_count = Counter(list(data['color']))\n",
    "for i in range(10):\n",
    "    print(\"{0} - {1}\".format(color_count.most_common()[i][0],color_count.most_common()[i][1])) "
   ]
  },
  {
   "attachments": {},
   "cell_type": "markdown",
   "id": "f519b9d5",
   "metadata": {},
   "source": [
    "# 6. \"title\" feature "
   ]
  },
  {
   "cell_type": "code",
   "execution_count": 145,
   "id": "d6997221",
   "metadata": {
    "scrolled": true
   },
   "outputs": [
    {
     "name": "stdout",
     "output_type": "stream",
     "text": [
      "Products 64843\n",
      "count                                                 64843\n",
      "unique                                                61568\n",
      "top       FINEJO Casual Women Long Sleeve Lace Irregular...\n",
      "freq                                                     47\n",
      "Name: title, dtype: object\n",
      "- All products have 'title' information\n",
      "- 3275 products have same 'title' information.\n"
     ]
    }
   ],
   "source": [
    "print(\"Products\",data.shape[0])\n",
    "print(data['title'].describe())\n",
    "if data['title'].isnull().sum() == 0:\n",
    "    print(\"- All products have 'title' information\")\n",
    "else:\n",
    "    print(\"- {0} products does not have 'title' information.\".format(data['title'].isnull().sum()))\n",
    "if data['title'].duplicated().sum() == 0:\n",
    "    print(\"- Each products have unique 'title' information\")\n",
    "else:\n",
    "    print(\"- {0} products have same 'title' information.\".format(data['title'].duplicated().sum()))"
   ]
  },
  {
   "attachments": {},
   "cell_type": "markdown",
   "id": "9159bf5c",
   "metadata": {},
   "source": [
    "- All of the 64843 products have title. \n",
    "- We have 61568 unique 'titles'.\n",
    "- Let's check duplicate titles."
   ]
  },
  {
   "cell_type": "code",
   "execution_count": 153,
   "id": "9b5a9007",
   "metadata": {},
   "outputs": [
    {
     "name": "stdout",
     "output_type": "stream",
     "text": [
      "asin - B003BTPVGA , Brand - FeatherLite , Color - Pacific Blue\n",
      "https://images-na.ssl-images-amazon.com/images/I/41ygbhq127L._SL160_.jpg\n",
      "FeatherLite Ladies Long Sleeve Stain Resistant Tapered Twill Shirt, Pacific B.\n",
      "\n",
      "asin - B003BTPVHE , Brand - FeatherLite , Color - Pacific Blue\n",
      "https://images-na.ssl-images-amazon.com/images/I/41ygbhq127L._SL160_.jpg\n",
      "FeatherLite Ladies Long Sleeve Stain Resistant Tapered Twill Shirt, Pacific B.\n",
      "\n",
      "asin - B003BTPVEM , Brand - FeatherLite , Color - Pacific Blue\n",
      "https://images-na.ssl-images-amazon.com/images/I/41ygbhq127L._SL160_.jpg\n",
      "FeatherLite Ladies Long Sleeve Stain Resistant Tapered Twill Shirt, Pacific B.\n",
      "\n",
      "asin - B003BTOHHO , Brand - FeatherLite , Color - Pacific Blue\n",
      "https://images-na.ssl-images-amazon.com/images/I/41ygbhq127L._SL160_.jpg\n",
      "FeatherLite Ladies Long Sleeve Stain Resistant Tapered Twill Shirt, Pacific B.\n",
      "\n",
      "asin - B003BTOHG0 , Brand - FeatherLite , Color - Pacific Blue\n",
      "https://images-na.ssl-images-amazon.com/images/I/41ygbhq127L._SL160_.jpg\n",
      "FeatherLite Ladies Long Sleeve Stain Resistant Tapered Twill Shirt, Pacific B.\n",
      "\n"
     ]
    }
   ],
   "source": [
    "for duplicate in range(len(data['title'].duplicated())):\n",
    "    if data['title'].duplicated()[duplicate] == True:\n",
    "        duplicate_df = data[data['title'] == data['title'][duplicate]]\n",
    "        duplicate_df = duplicate_df.reset_index(drop=True)\n",
    "        break\n",
    "for i in range(duplicate_df.shape[0]):\n",
    "    print(\"asin - {0} , Brand - {1} , Color - {2}\".format(duplicate_df['asin'][i], duplicate_df['brand'][i], duplicate_df['color'][i]))\n",
    "    print(duplicate_df['medium_image_url'][i])\n",
    "    print(duplicate_df['title'][i])\n",
    "    print()\n",
    "    if i >= 5:\n",
    "        break"
   ]
  },
  {
   "attachments": {},
   "cell_type": "markdown",
   "id": "cf8043e7",
   "metadata": {},
   "source": [
    "- It is clear that except 'asin' every feature is same for 'title' feature.\n",
    "- So will drop all these duplicate titles."
   ]
  },
  {
   "cell_type": "code",
   "execution_count": 154,
   "id": "f3ca3add",
   "metadata": {},
   "outputs": [
    {
     "name": "stdout",
     "output_type": "stream",
     "text": [
      "Number of data points after eliminating titles = NULL : 61568\n"
     ]
    }
   ],
   "source": [
    "# Let's drop duplicate title\n",
    "data['title'] = data['title'].drop_duplicates()\n",
    "\n",
    "# Now we will drop records that have 'Null/None\" title.\n",
    "data = data.loc[~data['title'].isnull()]\n",
    "\n",
    "# Reset dataframe index.\n",
    "data = data.reset_index(drop=True)\n",
    "print('Number of data points after eliminating duplicte titles :', data.shape[0])"
   ]
  },
  {
   "attachments": {},
   "cell_type": "markdown",
   "id": "c529a5b3",
   "metadata": {},
   "source": [
    "# 7. \"formatted_price\" feature "
   ]
  },
  {
   "cell_type": "code",
   "execution_count": 156,
   "id": "200b6395",
   "metadata": {},
   "outputs": [
    {
     "name": "stdout",
     "output_type": "stream",
     "text": [
      "Products  61568\n",
      "count      25955\n",
      "unique      3095\n",
      "top       $19.99\n",
      "freq         899\n",
      "Name: formatted_price, dtype: object\n",
      "- 35613 products does not have 'formatted_price' information.\n",
      "- 58472 products have same 'formatted_price' information.\n"
     ]
    }
   ],
   "source": [
    "print(\"Products \",data.shape[0])\n",
    "print(data['formatted_price'].describe())\n",
    "if data['formatted_price'].isnull().sum() == 0:\n",
    "    print(\"- All products have 'formatted_price' information\")\n",
    "else:\n",
    "    print(\"- {0} products does not have 'formatted_price' information.\".format(data['formatted_price'].isnull().sum()))\n",
    "if data['formatted_price'].duplicated().sum() == 0:\n",
    "    print(\"- Each products have unique 'formatted_price' information\")\n",
    "else:\n",
    "    print(\"- {0} products have same 'formatted_price' information.\".format(data['formatted_price'].duplicated().sum()))"
   ]
  },
  {
   "attachments": {},
   "cell_type": "markdown",
   "id": "38d6a153",
   "metadata": {},
   "source": [
    "- Only 25,955 (42.15%) products have price information.\n",
    "- 899 products have same price. That's \"$19.99\"\n",
    "- Some products have same price but different 'title','brand' and other informations.\n",
    "- So we will drop only those products which does not have price information."
   ]
  },
  {
   "cell_type": "code",
   "execution_count": 157,
   "id": "f114e6fc",
   "metadata": {},
   "outputs": [
    {
     "name": "stdout",
     "output_type": "stream",
     "text": [
      "Number of data points after eliminating price = NULL : 25955\n"
     ]
    }
   ],
   "source": [
    "data = data.loc[~data['formatted_price'].isnull()]\n",
    "\n",
    "# Reset dataframe index.\n",
    "data = data.reset_index(drop=True)\n",
    "print('Number of data points after eliminating formatted_price = NULL :', data.shape[0])"
   ]
  },
  {
   "cell_type": "code",
   "execution_count": 159,
   "id": "78627976",
   "metadata": {},
   "outputs": [
    {
     "name": "stdout",
     "output_type": "stream",
     "text": [
      "$19.99 - 899\n",
      "$9.99 - 664\n",
      "$9.50 - 541\n",
      "$14.99 - 412\n",
      "$24.99 - 400\n",
      "$7.50 - 395\n",
      "$29.99 - 355\n",
      "$16.99 - 288\n",
      "$12.99 - 273\n",
      "$8.99 - 263\n"
     ]
    }
   ],
   "source": [
    "# Lets print top 10 'formatted_price' and their frequency\n",
    "price_count = Counter(list(data['formatted_price']))\n",
    "for i in range(10):\n",
    "    print(\"{0} - {1}\".format(price_count.most_common()[i][0],price_count.most_common()[i][1])) "
   ]
  },
  {
   "attachments": {},
   "cell_type": "markdown",
   "id": "14952d95",
   "metadata": {},
   "source": [
    "- We brought down the number of data points from 183K to 25K."
   ]
  },
  {
   "cell_type": "code",
   "execution_count": 25,
   "id": "d10a4ff2",
   "metadata": {},
   "outputs": [],
   "source": [
    "data.to_csv('tops_fashion.csv',index=False)"
   ]
  }
 ],
 "metadata": {
  "kernelspec": {
   "display_name": "Python 3",
   "language": "python",
   "name": "python3"
  },
  "language_info": {
   "codemirror_mode": {
    "name": "ipython",
    "version": 3
   },
   "file_extension": ".py",
   "mimetype": "text/x-python",
   "name": "python",
   "nbconvert_exporter": "python",
   "pygments_lexer": "ipython3",
   "version": "3.10.4 (tags/v3.10.4:9d38120, Mar 23 2022, 23:13:41) [MSC v.1929 64 bit (AMD64)]"
  },
  "vscode": {
   "interpreter": {
    "hash": "beedbe2faf2f7048d727558d0bc3221e7eba2a0b921cac4d4771b2feb8f74b30"
   }
  }
 },
 "nbformat": 4,
 "nbformat_minor": 5
}
