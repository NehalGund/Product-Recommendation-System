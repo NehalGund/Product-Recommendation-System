{
 "cells": [
  {
   "attachments": {},
   "cell_type": "markdown",
   "id": "a06951c7",
   "metadata": {},
   "source": [
    "# A. Product Recommendation System\n",
    "- Recommending similar product based on text features.\n",
    "- The use of recommendation systems is now very common in e-commerce companies like Amazon, Flipkart, Myntra, etc.  "
   ]
  },
  {
   "attachments": {},
   "cell_type": "markdown",
   "id": "06e0727c",
   "metadata": {},
   "source": [
    "# B. Business Objective\n",
    "- Many people use e-commerce platforms to buy products. When a product is selected, people expect to see similar products.\n",
    "- A model which can recommend people similar products is our Business Objective."
   ]
  },
  {
   "attachments": {},
   "cell_type": "markdown",
   "id": "7fb8c2e7",
   "metadata": {},
   "source": [
    "# C. Constaints\n",
    "\n",
    "1. Low Latency - In real time within in few nano seconds the model should be able to recommend similar product to people.\n",
    "\n",
    "2. Speed - We need speedy model not 100% accurate model. So accuracy is not important. \n",
    "\n",
    "3. Same product recommendation error - People doesn't like to see same product again and again.\n",
    "\n",
    "4. Interpretablity is important."
   ]
  },
  {
   "attachments": {},
   "cell_type": "markdown",
   "id": "566b13df",
   "metadata": {},
   "source": [
    "# D. Data\n",
    "- Data contains ladies tops fashion of amazon , initially data has 183k rows and 19 features.\n",
    "- Out of 19 features we will use only 7 importnt features.\n",
    "- By cleaning data we brought down the number of data points from 183K to 25K."
   ]
  },
  {
   "attachments": {},
   "cell_type": "markdown",
   "id": "f79e8f0b",
   "metadata": {},
   "source": [
    "# E. Approch\n",
    "- Titles fairly describe what the product is.\n",
    "- We will use the title feature to recommend a product because they are short and informative."
   ]
  },
  {
   "cell_type": "code",
   "execution_count": 1,
   "id": "5e0a225d",
   "metadata": {},
   "outputs": [],
   "source": [
    "import numpy as np\n",
    "import pandas as pd\n",
    "import matplotlib.pyplot as plt\n",
    "import re\n",
    "import time\n",
    "import nltk\n",
    "from functools import reduce\n",
    "from nltk.corpus import stopwords\n",
    "from collections import Counter\n",
    "from io import BytesIO\n",
    "from PIL import Image\n",
    "import requests\n",
    "import warnings\n",
    "warnings.filterwarnings(\"ignore\")"
   ]
  },
  {
   "cell_type": "code",
   "execution_count": 2,
   "id": "cd582911",
   "metadata": {},
   "outputs": [],
   "source": [
    "# we have a json file which consists of all information about the products.\n",
    "data = pd.read_json('tops_fashion.json')"
   ]
  },
  {
   "cell_type": "code",
   "execution_count": 3,
   "id": "b9a65cfc",
   "metadata": {},
   "outputs": [
    {
     "name": "stdout",
     "output_type": "stream",
     "text": [
      "Number of data points : 183138 \n",
      "Number of features/variables: 19\n"
     ]
    }
   ],
   "source": [
    "print ('Number of data points :', data.shape[0], \\\n",
    "       '\\nNumber of features/variables:', data.shape[1])"
   ]
  },
  {
   "attachments": {},
   "cell_type": "markdown",
   "id": "bf108f11",
   "metadata": {},
   "source": [
    "# F. Data Cleaning"
   ]
  },
  {
   "cell_type": "code",
   "execution_count": 4,
   "id": "199fec2d",
   "metadata": {},
   "outputs": [
    {
     "data": {
      "text/html": [
       "<div>\n",
       "<style scoped>\n",
       "    .dataframe tbody tr th:only-of-type {\n",
       "        vertical-align: middle;\n",
       "    }\n",
       "\n",
       "    .dataframe tbody tr th {\n",
       "        vertical-align: top;\n",
       "    }\n",
       "\n",
       "    .dataframe thead th {\n",
       "        text-align: right;\n",
       "    }\n",
       "</style>\n",
       "<table border=\"1\" class=\"dataframe\">\n",
       "  <thead>\n",
       "    <tr style=\"text-align: right;\">\n",
       "      <th></th>\n",
       "      <th>sku</th>\n",
       "      <th>asin</th>\n",
       "      <th>product_type_name</th>\n",
       "      <th>formatted_price</th>\n",
       "      <th>author</th>\n",
       "      <th>color</th>\n",
       "      <th>brand</th>\n",
       "      <th>publisher</th>\n",
       "      <th>availability</th>\n",
       "      <th>reviews</th>\n",
       "      <th>large_image_url</th>\n",
       "      <th>availability_type</th>\n",
       "      <th>small_image_url</th>\n",
       "      <th>editorial_review</th>\n",
       "      <th>title</th>\n",
       "      <th>model</th>\n",
       "      <th>medium_image_url</th>\n",
       "      <th>manufacturer</th>\n",
       "      <th>editorial_reivew</th>\n",
       "    </tr>\n",
       "  </thead>\n",
       "  <tbody>\n",
       "    <tr>\n",
       "      <th>0</th>\n",
       "      <td>None</td>\n",
       "      <td>B016I2TS4W</td>\n",
       "      <td>SHIRT</td>\n",
       "      <td>None</td>\n",
       "      <td>None</td>\n",
       "      <td>None</td>\n",
       "      <td>FNC7C</td>\n",
       "      <td>None</td>\n",
       "      <td>None</td>\n",
       "      <td>[False, https://www.amazon.com/reviews/iframe?...</td>\n",
       "      <td>https://images-na.ssl-images-amazon.com/images...</td>\n",
       "      <td>None</td>\n",
       "      <td>https://images-na.ssl-images-amazon.com/images...</td>\n",
       "      <td>Minions Como Superheroes Ironman Women's O Nec...</td>\n",
       "      <td>Minions Como Superheroes Ironman Long Sleeve R...</td>\n",
       "      <td>None</td>\n",
       "      <td>https://images-na.ssl-images-amazon.com/images...</td>\n",
       "      <td>None</td>\n",
       "      <td>NaN</td>\n",
       "    </tr>\n",
       "    <tr>\n",
       "      <th>1</th>\n",
       "      <td>None</td>\n",
       "      <td>B01N49AI08</td>\n",
       "      <td>SHIRT</td>\n",
       "      <td>None</td>\n",
       "      <td>None</td>\n",
       "      <td>None</td>\n",
       "      <td>FIG Clothing</td>\n",
       "      <td>None</td>\n",
       "      <td>None</td>\n",
       "      <td>[False, https://www.amazon.com/reviews/iframe?...</td>\n",
       "      <td>https://images-na.ssl-images-amazon.com/images...</td>\n",
       "      <td>None</td>\n",
       "      <td>https://images-na.ssl-images-amazon.com/images...</td>\n",
       "      <td>Sizing runs on the small side. FIG® recommends...</td>\n",
       "      <td>FIG Clothing Womens Izo Tunic</td>\n",
       "      <td>None</td>\n",
       "      <td>https://images-na.ssl-images-amazon.com/images...</td>\n",
       "      <td>None</td>\n",
       "      <td>NaN</td>\n",
       "    </tr>\n",
       "    <tr>\n",
       "      <th>2</th>\n",
       "      <td>None</td>\n",
       "      <td>B01JDPCOHO</td>\n",
       "      <td>SHIRT</td>\n",
       "      <td>None</td>\n",
       "      <td>None</td>\n",
       "      <td>None</td>\n",
       "      <td>FIG Clothing</td>\n",
       "      <td>None</td>\n",
       "      <td>None</td>\n",
       "      <td>[False, https://www.amazon.com/reviews/iframe?...</td>\n",
       "      <td>https://images-na.ssl-images-amazon.com/images...</td>\n",
       "      <td>None</td>\n",
       "      <td>https://images-na.ssl-images-amazon.com/images...</td>\n",
       "      <td>Sizing runs on the small side. FIG® recommends...</td>\n",
       "      <td>FIG Clothing Womens Won Top</td>\n",
       "      <td>None</td>\n",
       "      <td>https://images-na.ssl-images-amazon.com/images...</td>\n",
       "      <td>None</td>\n",
       "      <td>NaN</td>\n",
       "    </tr>\n",
       "    <tr>\n",
       "      <th>3</th>\n",
       "      <td>None</td>\n",
       "      <td>B01N19U5H5</td>\n",
       "      <td>SHIRT</td>\n",
       "      <td>None</td>\n",
       "      <td>None</td>\n",
       "      <td>None</td>\n",
       "      <td>Focal18</td>\n",
       "      <td>None</td>\n",
       "      <td>None</td>\n",
       "      <td>[True, https://www.amazon.com/reviews/iframe?a...</td>\n",
       "      <td>https://images-na.ssl-images-amazon.com/images...</td>\n",
       "      <td>None</td>\n",
       "      <td>https://images-na.ssl-images-amazon.com/images...</td>\n",
       "      <td>100% Brand New &amp; Fashion&lt;br&gt; Quantity: 1 Piece...</td>\n",
       "      <td>Focal18 Sailor Collar Bubble Sleeve Blouse Shi...</td>\n",
       "      <td>None</td>\n",
       "      <td>https://images-na.ssl-images-amazon.com/images...</td>\n",
       "      <td>None</td>\n",
       "      <td>NaN</td>\n",
       "    </tr>\n",
       "    <tr>\n",
       "      <th>4</th>\n",
       "      <td>None</td>\n",
       "      <td>B004GSI2OS</td>\n",
       "      <td>SHIRT</td>\n",
       "      <td>$26.26</td>\n",
       "      <td>None</td>\n",
       "      <td>Onyx Black/ Stone</td>\n",
       "      <td>FeatherLite</td>\n",
       "      <td>None</td>\n",
       "      <td>Usually ships in 6-10 business days</td>\n",
       "      <td>[False, https://www.amazon.com/reviews/iframe?...</td>\n",
       "      <td>https://images-na.ssl-images-amazon.com/images...</td>\n",
       "      <td>now</td>\n",
       "      <td>https://images-na.ssl-images-amazon.com/images...</td>\n",
       "      <td></td>\n",
       "      <td>Featherlite Ladies' Long Sleeve Stain Resistan...</td>\n",
       "      <td>None</td>\n",
       "      <td>https://images-na.ssl-images-amazon.com/images...</td>\n",
       "      <td>None</td>\n",
       "      <td>NaN</td>\n",
       "    </tr>\n",
       "  </tbody>\n",
       "</table>\n",
       "</div>"
      ],
      "text/plain": [
       "    sku        asin product_type_name formatted_price author  \\\n",
       "0  None  B016I2TS4W             SHIRT            None   None   \n",
       "1  None  B01N49AI08             SHIRT            None   None   \n",
       "2  None  B01JDPCOHO             SHIRT            None   None   \n",
       "3  None  B01N19U5H5             SHIRT            None   None   \n",
       "4  None  B004GSI2OS             SHIRT          $26.26   None   \n",
       "\n",
       "               color         brand publisher  \\\n",
       "0               None         FNC7C      None   \n",
       "1               None  FIG Clothing      None   \n",
       "2               None  FIG Clothing      None   \n",
       "3               None       Focal18      None   \n",
       "4  Onyx Black/ Stone   FeatherLite      None   \n",
       "\n",
       "                          availability  \\\n",
       "0                                 None   \n",
       "1                                 None   \n",
       "2                                 None   \n",
       "3                                 None   \n",
       "4  Usually ships in 6-10 business days   \n",
       "\n",
       "                                             reviews  \\\n",
       "0  [False, https://www.amazon.com/reviews/iframe?...   \n",
       "1  [False, https://www.amazon.com/reviews/iframe?...   \n",
       "2  [False, https://www.amazon.com/reviews/iframe?...   \n",
       "3  [True, https://www.amazon.com/reviews/iframe?a...   \n",
       "4  [False, https://www.amazon.com/reviews/iframe?...   \n",
       "\n",
       "                                     large_image_url availability_type  \\\n",
       "0  https://images-na.ssl-images-amazon.com/images...              None   \n",
       "1  https://images-na.ssl-images-amazon.com/images...              None   \n",
       "2  https://images-na.ssl-images-amazon.com/images...              None   \n",
       "3  https://images-na.ssl-images-amazon.com/images...              None   \n",
       "4  https://images-na.ssl-images-amazon.com/images...               now   \n",
       "\n",
       "                                     small_image_url  \\\n",
       "0  https://images-na.ssl-images-amazon.com/images...   \n",
       "1  https://images-na.ssl-images-amazon.com/images...   \n",
       "2  https://images-na.ssl-images-amazon.com/images...   \n",
       "3  https://images-na.ssl-images-amazon.com/images...   \n",
       "4  https://images-na.ssl-images-amazon.com/images...   \n",
       "\n",
       "                                    editorial_review  \\\n",
       "0  Minions Como Superheroes Ironman Women's O Nec...   \n",
       "1  Sizing runs on the small side. FIG® recommends...   \n",
       "2  Sizing runs on the small side. FIG® recommends...   \n",
       "3  100% Brand New & Fashion<br> Quantity: 1 Piece...   \n",
       "4                                                      \n",
       "\n",
       "                                               title model  \\\n",
       "0  Minions Como Superheroes Ironman Long Sleeve R...  None   \n",
       "1                      FIG Clothing Womens Izo Tunic  None   \n",
       "2                        FIG Clothing Womens Won Top  None   \n",
       "3  Focal18 Sailor Collar Bubble Sleeve Blouse Shi...  None   \n",
       "4  Featherlite Ladies' Long Sleeve Stain Resistan...  None   \n",
       "\n",
       "                                    medium_image_url manufacturer  \\\n",
       "0  https://images-na.ssl-images-amazon.com/images...         None   \n",
       "1  https://images-na.ssl-images-amazon.com/images...         None   \n",
       "2  https://images-na.ssl-images-amazon.com/images...         None   \n",
       "3  https://images-na.ssl-images-amazon.com/images...         None   \n",
       "4  https://images-na.ssl-images-amazon.com/images...         None   \n",
       "\n",
       "  editorial_reivew  \n",
       "0              NaN  \n",
       "1              NaN  \n",
       "2              NaN  \n",
       "3              NaN  \n",
       "4              NaN  "
      ]
     },
     "execution_count": 4,
     "metadata": {},
     "output_type": "execute_result"
    }
   ],
   "source": [
    "data.head() "
   ]
  },
  {
   "cell_type": "code",
   "execution_count": 5,
   "id": "01cf605b",
   "metadata": {},
   "outputs": [
    {
     "data": {
      "text/plain": [
       "Index(['sku', 'asin', 'product_type_name', 'formatted_price', 'author',\n",
       "       'color', 'brand', 'publisher', 'availability', 'reviews',\n",
       "       'large_image_url', 'availability_type', 'small_image_url',\n",
       "       'editorial_review', 'title', 'model', 'medium_image_url',\n",
       "       'manufacturer', 'editorial_reivew'],\n",
       "      dtype='object')"
      ]
     },
     "execution_count": 5,
     "metadata": {},
     "output_type": "execute_result"
    }
   ],
   "source": [
    "# Let's see features we have in dataset.\n",
    "data.columns"
   ]
  },
  {
   "attachments": {},
   "cell_type": "markdown",
   "id": "e67be087",
   "metadata": {},
   "source": [
    "Of these 19 features, we will use only 7 features in this project.\n",
    "- 1. asin  (Amazon standard identification number)\n",
    "- 2. brand (brand name of the product)\n",
    "- 3. medium_image_url  (url of the product image)\n",
    "- 4. product_type_name (type of the product)\n",
    "- 5. color (color information of the product) \n",
    "- 6. title (title of the product)\n",
    "- 7. formatted_price (price of the product)"
   ]
  },
  {
   "cell_type": "code",
   "execution_count": 6,
   "id": "ac5ddafa",
   "metadata": {},
   "outputs": [],
   "source": [
    "data = data[['asin', 'brand', 'medium_image_url', 'product_type_name', 'color', 'title', 'formatted_price']]"
   ]
  },
  {
   "cell_type": "code",
   "execution_count": 7,
   "id": "f54bef28",
   "metadata": {},
   "outputs": [],
   "source": [
    "# data.to_csv('tops_fashion2.csv', index=False)"
   ]
  },
  {
   "cell_type": "code",
   "execution_count": 8,
   "id": "8167572b",
   "metadata": {},
   "outputs": [
    {
     "name": "stdout",
     "output_type": "stream",
     "text": [
      "Number of data points : 183138 \n",
      "Number of features: 7\n"
     ]
    },
    {
     "data": {
      "text/html": [
       "<div>\n",
       "<style scoped>\n",
       "    .dataframe tbody tr th:only-of-type {\n",
       "        vertical-align: middle;\n",
       "    }\n",
       "\n",
       "    .dataframe tbody tr th {\n",
       "        vertical-align: top;\n",
       "    }\n",
       "\n",
       "    .dataframe thead th {\n",
       "        text-align: right;\n",
       "    }\n",
       "</style>\n",
       "<table border=\"1\" class=\"dataframe\">\n",
       "  <thead>\n",
       "    <tr style=\"text-align: right;\">\n",
       "      <th></th>\n",
       "      <th>asin</th>\n",
       "      <th>brand</th>\n",
       "      <th>medium_image_url</th>\n",
       "      <th>product_type_name</th>\n",
       "      <th>color</th>\n",
       "      <th>title</th>\n",
       "      <th>formatted_price</th>\n",
       "    </tr>\n",
       "  </thead>\n",
       "  <tbody>\n",
       "    <tr>\n",
       "      <th>0</th>\n",
       "      <td>B016I2TS4W</td>\n",
       "      <td>FNC7C</td>\n",
       "      <td>https://images-na.ssl-images-amazon.com/images...</td>\n",
       "      <td>SHIRT</td>\n",
       "      <td>None</td>\n",
       "      <td>Minions Como Superheroes Ironman Long Sleeve R...</td>\n",
       "      <td>None</td>\n",
       "    </tr>\n",
       "    <tr>\n",
       "      <th>1</th>\n",
       "      <td>B01N49AI08</td>\n",
       "      <td>FIG Clothing</td>\n",
       "      <td>https://images-na.ssl-images-amazon.com/images...</td>\n",
       "      <td>SHIRT</td>\n",
       "      <td>None</td>\n",
       "      <td>FIG Clothing Womens Izo Tunic</td>\n",
       "      <td>None</td>\n",
       "    </tr>\n",
       "    <tr>\n",
       "      <th>2</th>\n",
       "      <td>B01JDPCOHO</td>\n",
       "      <td>FIG Clothing</td>\n",
       "      <td>https://images-na.ssl-images-amazon.com/images...</td>\n",
       "      <td>SHIRT</td>\n",
       "      <td>None</td>\n",
       "      <td>FIG Clothing Womens Won Top</td>\n",
       "      <td>None</td>\n",
       "    </tr>\n",
       "    <tr>\n",
       "      <th>3</th>\n",
       "      <td>B01N19U5H5</td>\n",
       "      <td>Focal18</td>\n",
       "      <td>https://images-na.ssl-images-amazon.com/images...</td>\n",
       "      <td>SHIRT</td>\n",
       "      <td>None</td>\n",
       "      <td>Focal18 Sailor Collar Bubble Sleeve Blouse Shi...</td>\n",
       "      <td>None</td>\n",
       "    </tr>\n",
       "    <tr>\n",
       "      <th>4</th>\n",
       "      <td>B004GSI2OS</td>\n",
       "      <td>FeatherLite</td>\n",
       "      <td>https://images-na.ssl-images-amazon.com/images...</td>\n",
       "      <td>SHIRT</td>\n",
       "      <td>Onyx Black/ Stone</td>\n",
       "      <td>Featherlite Ladies' Long Sleeve Stain Resistan...</td>\n",
       "      <td>$26.26</td>\n",
       "    </tr>\n",
       "  </tbody>\n",
       "</table>\n",
       "</div>"
      ],
      "text/plain": [
       "         asin         brand  \\\n",
       "0  B016I2TS4W         FNC7C   \n",
       "1  B01N49AI08  FIG Clothing   \n",
       "2  B01JDPCOHO  FIG Clothing   \n",
       "3  B01N19U5H5       Focal18   \n",
       "4  B004GSI2OS   FeatherLite   \n",
       "\n",
       "                                    medium_image_url product_type_name  \\\n",
       "0  https://images-na.ssl-images-amazon.com/images...             SHIRT   \n",
       "1  https://images-na.ssl-images-amazon.com/images...             SHIRT   \n",
       "2  https://images-na.ssl-images-amazon.com/images...             SHIRT   \n",
       "3  https://images-na.ssl-images-amazon.com/images...             SHIRT   \n",
       "4  https://images-na.ssl-images-amazon.com/images...             SHIRT   \n",
       "\n",
       "               color                                              title  \\\n",
       "0               None  Minions Como Superheroes Ironman Long Sleeve R...   \n",
       "1               None                      FIG Clothing Womens Izo Tunic   \n",
       "2               None                        FIG Clothing Womens Won Top   \n",
       "3               None  Focal18 Sailor Collar Bubble Sleeve Blouse Shi...   \n",
       "4  Onyx Black/ Stone  Featherlite Ladies' Long Sleeve Stain Resistan...   \n",
       "\n",
       "  formatted_price  \n",
       "0            None  \n",
       "1            None  \n",
       "2            None  \n",
       "3            None  \n",
       "4          $26.26  "
      ]
     },
     "execution_count": 8,
     "metadata": {},
     "output_type": "execute_result"
    }
   ],
   "source": [
    "print ('Number of data points :', data.shape[0], \\\n",
    "       '\\nNumber of features:', data.shape[1])\n",
    "data.head()"
   ]
  },
  {
   "attachments": {},
   "cell_type": "markdown",
   "id": "a1f02571",
   "metadata": {},
   "source": [
    "- Let's understand each feature in detail\n",
    "- We will drop data points having missing features and/or duplicte features."
   ]
  },
  {
   "cell_type": "code",
   "execution_count": 9,
   "id": "38bb1028",
   "metadata": {},
   "outputs": [
    {
     "data": {
      "text/html": [
       "<div>\n",
       "<style scoped>\n",
       "    .dataframe tbody tr th:only-of-type {\n",
       "        vertical-align: middle;\n",
       "    }\n",
       "\n",
       "    .dataframe tbody tr th {\n",
       "        vertical-align: top;\n",
       "    }\n",
       "\n",
       "    .dataframe thead th {\n",
       "        text-align: right;\n",
       "    }\n",
       "</style>\n",
       "<table border=\"1\" class=\"dataframe\">\n",
       "  <thead>\n",
       "    <tr style=\"text-align: right;\">\n",
       "      <th></th>\n",
       "      <th>asin</th>\n",
       "      <th>brand</th>\n",
       "      <th>medium_image_url</th>\n",
       "      <th>product_type_name</th>\n",
       "      <th>color</th>\n",
       "      <th>title</th>\n",
       "      <th>formatted_price</th>\n",
       "    </tr>\n",
       "  </thead>\n",
       "  <tbody>\n",
       "    <tr>\n",
       "      <th>count</th>\n",
       "      <td>183138</td>\n",
       "      <td>182987</td>\n",
       "      <td>183138</td>\n",
       "      <td>183138</td>\n",
       "      <td>64956</td>\n",
       "      <td>183138</td>\n",
       "      <td>28395</td>\n",
       "    </tr>\n",
       "    <tr>\n",
       "      <th>unique</th>\n",
       "      <td>183138</td>\n",
       "      <td>10577</td>\n",
       "      <td>170782</td>\n",
       "      <td>72</td>\n",
       "      <td>7380</td>\n",
       "      <td>175985</td>\n",
       "      <td>3135</td>\n",
       "    </tr>\n",
       "    <tr>\n",
       "      <th>top</th>\n",
       "      <td>B016I2TS4W</td>\n",
       "      <td>Zago</td>\n",
       "      <td>https://images-na.ssl-images-amazon.com/images...</td>\n",
       "      <td>SHIRT</td>\n",
       "      <td>Black</td>\n",
       "      <td>Nakoda Cotton Self Print Straight Kurti For Women</td>\n",
       "      <td>$19.99</td>\n",
       "    </tr>\n",
       "    <tr>\n",
       "      <th>freq</th>\n",
       "      <td>1</td>\n",
       "      <td>223</td>\n",
       "      <td>23</td>\n",
       "      <td>167794</td>\n",
       "      <td>13207</td>\n",
       "      <td>77</td>\n",
       "      <td>945</td>\n",
       "    </tr>\n",
       "  </tbody>\n",
       "</table>\n",
       "</div>"
      ],
      "text/plain": [
       "              asin   brand                                   medium_image_url  \\\n",
       "count       183138  182987                                             183138   \n",
       "unique      183138   10577                                             170782   \n",
       "top     B016I2TS4W    Zago  https://images-na.ssl-images-amazon.com/images...   \n",
       "freq             1     223                                                 23   \n",
       "\n",
       "       product_type_name  color  \\\n",
       "count             183138  64956   \n",
       "unique                72   7380   \n",
       "top                SHIRT  Black   \n",
       "freq              167794  13207   \n",
       "\n",
       "                                                    title formatted_price  \n",
       "count                                              183138           28395  \n",
       "unique                                             175985            3135  \n",
       "top     Nakoda Cotton Self Print Straight Kurti For Women          $19.99  \n",
       "freq                                                   77             945  "
      ]
     },
     "execution_count": 9,
     "metadata": {},
     "output_type": "execute_result"
    }
   ],
   "source": [
    "data.describe()"
   ]
  },
  {
   "attachments": {},
   "cell_type": "markdown",
   "id": "88a6a079",
   "metadata": {},
   "source": [
    "# (1) \"asin\" Feature"
   ]
  },
  {
   "cell_type": "code",
   "execution_count": 10,
   "id": "ca876696",
   "metadata": {},
   "outputs": [
    {
     "name": "stdout",
     "output_type": "stream",
     "text": [
      "Products 183138\n",
      "count         183138\n",
      "unique        183138\n",
      "top       B016I2TS4W\n",
      "freq               1\n",
      "Name: asin, dtype: object\n",
      "- All products have 'asin' information\n",
      "- Each products have unique 'asin' information\n"
     ]
    }
   ],
   "source": [
    "print(\"Products\",data.shape[0])\n",
    "print(data['asin'].describe())\n",
    "if data['asin'].isnull().sum() == 0:\n",
    "    print(\"- All products have 'asin' information\")\n",
    "else:\n",
    "    print(\"- {0} products does not have 'asin' information.\".format(data['asin'].isnull().sum()))\n",
    "if data['asin'].duplicated().sum() == 0:\n",
    "    print(\"- Each products have unique 'asin' information\")\n",
    "else:\n",
    "    print(\"- {0} products have same 'asin' information.\".format(data['asin'].duplicated().sum()))"
   ]
  },
  {
   "attachments": {},
   "cell_type": "markdown",
   "id": "4658ed16",
   "metadata": {},
   "source": [
    "# (2) \"brand\" Feature "
   ]
  },
  {
   "cell_type": "code",
   "execution_count": 11,
   "id": "f85d708b",
   "metadata": {},
   "outputs": [
    {
     "name": "stdout",
     "output_type": "stream",
     "text": [
      "Products  183138\n",
      "count     182987\n",
      "unique     10577\n",
      "top         Zago\n",
      "freq         223\n",
      "Name: brand, dtype: object\n",
      "- 151 products does not have 'brand' information.\n",
      "- 172560 products have same 'brand' information.\n"
     ]
    }
   ],
   "source": [
    "print(\"Products \",data.shape[0])\n",
    "print(data['brand'].describe())\n",
    "if data['brand'].isnull().sum() == 0:\n",
    "    print(\"- All products have 'brand' information\")\n",
    "else:\n",
    "    print(\"- {0} products does not have 'brand' information.\".format(data['brand'].isnull().sum()))\n",
    "if data['brand'].duplicated().sum() == 0:\n",
    "    print(\"- Each products have unique 'brand' information\")\n",
    "else:\n",
    "    print(\"- {0} products have same 'brand' information.\".format(data['brand'].duplicated().sum()))"
   ]
  },
  {
   "attachments": {},
   "cell_type": "markdown",
   "id": "8dd7f8da",
   "metadata": {},
   "source": [
    "- 182987 of 183138 products have 'brand' information. That's apporx 99.91%\n",
    "- We have 10577 unique 'brand'.\n",
    "- 2.1% (223/10577) of the brands are 'Zago'.\n",
    "- Same brands have different products, so will only drop missing 'brand' value information.\n",
    "- Let's drop 151 data points / rows that does not have 'brand' information."
   ]
  },
  {
   "cell_type": "code",
   "execution_count": 12,
   "id": "91f810cf",
   "metadata": {},
   "outputs": [
    {
     "name": "stdout",
     "output_type": "stream",
     "text": [
      "- Number of data points after eliminating brand = NULL : 182987\n"
     ]
    }
   ],
   "source": [
    "data =data.loc[~data['brand'].isnull()]\n",
    "\n",
    "# Reset dataframe index.\n",
    "data = data.reset_index(drop=True)\n",
    "print(\"- Number of data points after eliminating brand = NULL :\", data.shape[0])"
   ]
  },
  {
   "cell_type": "code",
   "execution_count": 13,
   "id": "b358e86c",
   "metadata": {},
   "outputs": [
    {
     "name": "stdout",
     "output_type": "stream",
     "text": [
      "Zago - 223\n",
      "XQS - 222\n",
      "Yayun - 215\n",
      "YUNY - 198\n",
      "XiaoTianXin-women clothes - 193\n",
      "Generic - 192\n",
      "Boohoo - 190\n",
      "Alion - 188\n",
      "Abetteric - 187\n",
      "TheMogan - 187\n"
     ]
    }
   ],
   "source": [
    "# Let's print top 10 'brand' and their frequency\n",
    "brand_count = Counter(list(data['brand']))\n",
    "for i in range(10):\n",
    "    print(\"{0} - {1}\".format(brand_count.most_common()[i][0],brand_count.most_common()[i][1])) "
   ]
  },
  {
   "attachments": {},
   "cell_type": "markdown",
   "id": "f519b9d5",
   "metadata": {},
   "source": [
    "# (3) \"medium_image_url\" Feature "
   ]
  },
  {
   "cell_type": "code",
   "execution_count": 14,
   "id": "682b6f33",
   "metadata": {},
   "outputs": [
    {
     "name": "stdout",
     "output_type": "stream",
     "text": [
      "Products 182987\n",
      "count                                                182987\n",
      "unique                                               170667\n",
      "top       https://images-na.ssl-images-amazon.com/images...\n",
      "freq                                                     23\n",
      "Name: medium_image_url, dtype: object\n",
      "- All products have 'medium_image_url' information\n",
      "- 12320 products have same 'medium_image_url' information.\n"
     ]
    }
   ],
   "source": [
    "print(\"Products\",data.shape[0])\n",
    "print(data['medium_image_url'].describe())\n",
    "if data['medium_image_url'].isnull().sum() == 0:\n",
    "    print(\"- All products have 'medium_image_url' information\")\n",
    "else:\n",
    "    print(\"- {0} products does not have 'medium_image_url' information.\".format(data['medium_image_url'].isnull().sum()))\n",
    "if data['medium_image_url'].duplicated().sum() == 0:\n",
    "    print(\"- Each products have unique 'medium_image_url' information\")\n",
    "else:\n",
    "    print(\"- {0} products have same 'medium_image_url' information.\".format(data['medium_image_url'].duplicated().sum()))"
   ]
  },
  {
   "attachments": {},
   "cell_type": "markdown",
   "id": "b2200f61",
   "metadata": {},
   "source": [
    "- All of the products have image URL.\n",
    "- But we have only 1,70,667 unique 'medium_image_url'.\n",
    "- Some products have same image URL so lets check 'title' information for that URLs."
   ]
  },
  {
   "cell_type": "code",
   "execution_count": 15,
   "id": "b67b6375",
   "metadata": {},
   "outputs": [
    {
     "name": "stdout",
     "output_type": "stream",
     "text": [
      "https://images-na.ssl-images-amazon.com/images/I/41Cn7jZ3O9L._SL160_.jpg\n",
      "Supernatural Chibis Sam Dean And Castiel Short Sleeve T Shirts For Lady Purple S\n",
      "\n",
      "https://images-na.ssl-images-amazon.com/images/I/41Cn7jZ3O9L._SL160_.jpg\n",
      "Supernatural Chibis Sam Dean And Castiel O Neck T-shirts For Female Purple L\n",
      "\n",
      "https://images-na.ssl-images-amazon.com/images/I/41Cn7jZ3O9L._SL160_.jpg\n",
      "Supernatural Chibis Sam Dean And Castiel 100% Cotton T Shirts For Women Purple XXL\n",
      "\n"
     ]
    }
   ],
   "source": [
    "for duplicate in range(len(data['medium_image_url'].duplicated())):\n",
    "    if data['medium_image_url'].duplicated()[duplicate] == True:\n",
    "        duplicate_df = data[data['medium_image_url'] == data['medium_image_url'][duplicate]]\n",
    "        duplicate_df = duplicate_df.reset_index(drop=True)\n",
    "        break\n",
    "for i in range(duplicate_df.shape[0]):\n",
    "    print(duplicate_df['medium_image_url'][i])\n",
    "    print(duplicate_df['title'][i])\n",
    "    print()"
   ]
  },
  {
   "attachments": {},
   "cell_type": "markdown",
   "id": "3f7a0a7a",
   "metadata": {},
   "source": [
    "- From above titles and URLs it is clear that,some products may have same image URL but their title is different.\n",
    "- So will 'not' drop those data points having same image 'URL'."
   ]
  },
  {
   "attachments": {},
   "cell_type": "markdown",
   "id": "1eeed74b",
   "metadata": {},
   "source": [
    "# (4) \"product_type_name\" Feature "
   ]
  },
  {
   "cell_type": "code",
   "execution_count": 16,
   "id": "68bc300a",
   "metadata": {},
   "outputs": [
    {
     "name": "stdout",
     "output_type": "stream",
     "text": [
      "Products  182987\n",
      "count     182987\n",
      "unique        72\n",
      "top        SHIRT\n",
      "freq      167741\n",
      "Name: product_type_name, dtype: object\n",
      "- All products have 'product_type_name' information\n",
      "- 182915 products have same 'product_type_name' information.\n"
     ]
    }
   ],
   "source": [
    "print(\"Products \",data.shape[0])\n",
    "print(data['product_type_name'].describe())\n",
    "if data['product_type_name'].isnull().sum() == 0:\n",
    "    print(\"- All products have 'product_type_name' information\")\n",
    "else:\n",
    "    print(\"- {0} products does not have 'product_type_name' information.\".format(data['product_type_name'].isnull().sum()))\n",
    "if data['product_type_name'].duplicated().sum() == 0:\n",
    "    print(\"- Each products have unique 'product_type_name' information\")\n",
    "else:\n",
    "    print(\"- {0} products have same 'product_type_name' information.\".format(data['product_type_name'].duplicated().sum()))"
   ]
  },
  {
   "attachments": {},
   "cell_type": "markdown",
   "id": "d3a4c645",
   "metadata": {},
   "source": [
    "- All products have 'product_type_name'.\n",
    "- We have total 72 unique type of 'product_type_name'.\n",
    "- 91.62% (167794/183138) of the products are shirts.\n",
    "- Let's check 'title' information for same 'product_type_name'."
   ]
  },
  {
   "cell_type": "code",
   "execution_count": 17,
   "id": "6ddc4ad1",
   "metadata": {},
   "outputs": [
    {
     "name": "stdout",
     "output_type": "stream",
     "text": [
      "SHIRT\n",
      "Minions Como Superheroes Ironman Long Sleeve Round Neck T-Shirt For Women\n",
      "\n",
      "SHIRT\n",
      "FIG Clothing Womens Izo Tunic\n",
      "\n",
      "SHIRT\n",
      "FIG Clothing Womens Won Top\n",
      "\n",
      "SHIRT\n",
      "Focal18 Sailor Collar Bubble Sleeve Blouse Shirt Women Mori Girl Casual Top Harajuku\n",
      "\n",
      "SHIRT\n",
      "Featherlite Ladies' Long Sleeve Stain Resistant Tapered Twill Shirt, 2XL, Onyx Black/ Stone\n",
      "\n",
      "SHIRT\n",
      "[Fits Cloth] Grape Solid Modern Long Sleeve Plain T Shirt\n",
      "\n"
     ]
    }
   ],
   "source": [
    "for duplicate in range(len(data['product_type_name'].duplicated())):\n",
    "    if data['product_type_name'].duplicated()[duplicate] == True:\n",
    "        duplicate_df = data[data['product_type_name'] == data['product_type_name'][duplicate]]\n",
    "        duplicate_df = duplicate_df.reset_index(drop=True)\n",
    "        break\n",
    "for i in range(duplicate_df.shape[0]):\n",
    "    print(duplicate_df['product_type_name'][i])\n",
    "    print(duplicate_df['title'][i])\n",
    "    print()\n",
    "    if i >= 5:\n",
    "        break"
   ]
  },
  {
   "attachments": {},
   "cell_type": "markdown",
   "id": "abda3893",
   "metadata": {},
   "source": [
    "- It is clear that, for same 'product_type_name' we have different 'title' information."
   ]
  },
  {
   "cell_type": "code",
   "execution_count": 18,
   "id": "8c153d56",
   "metadata": {},
   "outputs": [
    {
     "name": "stdout",
     "output_type": "stream",
     "text": [
      "SHIRT - 167741\n",
      "APPAREL - 3548\n",
      "BOOKS_1973_AND_LATER - 3336\n",
      "DRESS - 1584\n",
      "SPORTING_GOODS - 1272\n",
      "SWEATER - 837\n",
      "OUTERWEAR - 796\n",
      "OUTDOOR_RECREATION_PRODUCT - 729\n",
      "ACCESSORY - 636\n",
      "UNDERWEAR - 425\n"
     ]
    }
   ],
   "source": [
    "# Let's print top 10 'product_type_name' and their frequency\n",
    "product_list=Counter(data['product_type_name'])\n",
    "for i in range(10):\n",
    "    print(\"{0} - {1}\".format(product_list.most_common()[i][0],product_list.most_common()[i][1])) "
   ]
  },
  {
   "attachments": {},
   "cell_type": "markdown",
   "id": "69b0165b",
   "metadata": {},
   "source": [
    "# (5) \"color\" Feature "
   ]
  },
  {
   "cell_type": "code",
   "execution_count": 19,
   "id": "b291d1e4",
   "metadata": {},
   "outputs": [
    {
     "name": "stdout",
     "output_type": "stream",
     "text": [
      "Products  182987\n",
      "count     64843\n",
      "unique     7377\n",
      "top       Black\n",
      "freq      13181\n",
      "Name: color, dtype: object\n",
      "- 118144 products does not have 'color' information.\n",
      "- 175609 products have same 'color' information.\n"
     ]
    }
   ],
   "source": [
    "print(\"Products \",data.shape[0])\n",
    "print(data['color'].describe())\n",
    "if data['color'].isnull().sum() == 0:\n",
    "    print(\"- All products have 'color' information\")\n",
    "else:\n",
    "    print(\"- {0} products does not have 'color' information.\".format(data['color'].isnull().sum()))\n",
    "if data['color'].duplicated().sum() == 0:\n",
    "    print(\"- Each products have unique 'color' information\")\n",
    "else:\n",
    "    print(\"- {0} products have same 'color' information.\".format(data['color'].duplicated().sum()))"
   ]
  },
  {
   "attachments": {},
   "cell_type": "markdown",
   "id": "36a1d22a",
   "metadata": {},
   "source": [
    "- 64843 of 182987 products have color information. That's approx 35.4%.\n",
    "- We have 7377 unique 'colors'\n",
    "- 11.37% of products are black in color.\n",
    "- Let's drop records that does not have color information"
   ]
  },
  {
   "cell_type": "code",
   "execution_count": 20,
   "id": "08e5690e",
   "metadata": {},
   "outputs": [
    {
     "name": "stdout",
     "output_type": "stream",
     "text": [
      "Number of data points after eliminating color = NULL : 64843\n"
     ]
    }
   ],
   "source": [
    "data =data.loc[~data['color'].isnull()]\n",
    "\n",
    "# Reset dataframe index.\n",
    "data = data.reset_index(drop=True)\n",
    "print('Number of data points after eliminating color = NULL :', data.shape[0])"
   ]
  },
  {
   "attachments": {},
   "cell_type": "markdown",
   "id": "d52407ec",
   "metadata": {},
   "source": [
    "- Let's check 'title' information for same 'color' information."
   ]
  },
  {
   "cell_type": "code",
   "execution_count": 21,
   "id": "11108f61",
   "metadata": {},
   "outputs": [
    {
     "name": "stdout",
     "output_type": "stream",
     "text": [
      "Black\n",
      "Standing on His Promises Rhinestones T-Shirt Ripped Cut Out Red Long\n",
      "\n",
      "Black\n",
      "Ladies Cotton Tank 2x1 Ribbed Tank Top\n",
      "\n",
      "Black\n",
      "Sexy Open Shoulder X Long Soft Shark Hemline Womans Plus Blouse Top 1x2x3x\n",
      "\n",
      "Black\n",
      "Women Roses Patch & Rhinestones T-Shirt Ripped Cut Out Short 01\n",
      "\n",
      "Black\n",
      "[Fits Cloth] Black Days Like Bless Plain T Shirt\n",
      "\n",
      "Black\n",
      "Fifth Degree Womens Gold Foil Graphic Tees Junior Top Short Sleeve Printed T Shirt - L\n",
      "\n"
     ]
    }
   ],
   "source": [
    "for duplicate in range(len(data['color'].duplicated())):\n",
    "    if data['color'].duplicated()[duplicate] == True:\n",
    "        duplicate_df = data[data['color'] == data['color'][duplicate]]\n",
    "        duplicate_df = duplicate_df.reset_index(drop=True)\n",
    "        break\n",
    "for i in range(duplicate_df.shape[0]):\n",
    "    print(duplicate_df['color'][i])\n",
    "    print(duplicate_df['title'][i])\n",
    "    print()\n",
    "    if i >= 5:\n",
    "        break"
   ]
  },
  {
   "attachments": {},
   "cell_type": "markdown",
   "id": "1ea92266",
   "metadata": {},
   "source": [
    "- It is clear that, same color information have different titles."
   ]
  },
  {
   "cell_type": "code",
   "execution_count": 22,
   "id": "478e02ca",
   "metadata": {},
   "outputs": [
    {
     "name": "stdout",
     "output_type": "stream",
     "text": [
      "Black - 13181\n",
      "White - 8599\n",
      "Blue - 3558\n",
      "Red - 2283\n",
      "Pink - 1837\n",
      "Grey - 1496\n",
      "* - 1388\n",
      "Green - 1257\n",
      "Multi - 1203\n",
      "Gray - 1189\n"
     ]
    }
   ],
   "source": [
    "# Let's print top 10 'color' and their frequency\n",
    "color_count = Counter(list(data['color']))\n",
    "for i in range(10):\n",
    "    print(\"{0} - {1}\".format(color_count.most_common()[i][0],color_count.most_common()[i][1])) "
   ]
  },
  {
   "attachments": {},
   "cell_type": "markdown",
   "id": "f519b9d5",
   "metadata": {},
   "source": [
    "# (6) \"title\" Feature "
   ]
  },
  {
   "cell_type": "code",
   "execution_count": 23,
   "id": "d6997221",
   "metadata": {
    "scrolled": true
   },
   "outputs": [
    {
     "name": "stdout",
     "output_type": "stream",
     "text": [
      "Products 64843\n",
      "count                                                 64843\n",
      "unique                                                61568\n",
      "top       FINEJO Casual Women Long Sleeve Lace Irregular...\n",
      "freq                                                     47\n",
      "Name: title, dtype: object\n",
      "- All products have 'title' information\n",
      "- 3275 products have same 'title' information.\n"
     ]
    }
   ],
   "source": [
    "print(\"Products\",data.shape[0])\n",
    "print(data['title'].describe())\n",
    "if data['title'].isnull().sum() == 0:\n",
    "    print(\"- All products have 'title' information\")\n",
    "else:\n",
    "    print(\"- {0} products does not have 'title' information.\".format(data['title'].isnull().sum()))\n",
    "if data['title'].duplicated().sum() == 0:\n",
    "    print(\"- Each products have unique 'title' information\")\n",
    "else:\n",
    "    print(\"- {0} products have same 'title' information.\".format(data['title'].duplicated().sum()))"
   ]
  },
  {
   "attachments": {},
   "cell_type": "markdown",
   "id": "9159bf5c",
   "metadata": {},
   "source": [
    "- All of the 64843 products have title. \n",
    "- We have 61568 unique 'titles'.\n",
    "- Let's check duplicate titles."
   ]
  },
  {
   "cell_type": "code",
   "execution_count": 24,
   "id": "9b5a9007",
   "metadata": {},
   "outputs": [
    {
     "name": "stdout",
     "output_type": "stream",
     "text": [
      "asin - B003BTPVGA , Brand - FeatherLite , Color - Pacific Blue\n",
      "https://images-na.ssl-images-amazon.com/images/I/41ygbhq127L._SL160_.jpg\n",
      "FeatherLite Ladies Long Sleeve Stain Resistant Tapered Twill Shirt, Pacific B.\n",
      "\n",
      "asin - B003BTPVHE , Brand - FeatherLite , Color - Pacific Blue\n",
      "https://images-na.ssl-images-amazon.com/images/I/41ygbhq127L._SL160_.jpg\n",
      "FeatherLite Ladies Long Sleeve Stain Resistant Tapered Twill Shirt, Pacific B.\n",
      "\n",
      "asin - B003BTPVEM , Brand - FeatherLite , Color - Pacific Blue\n",
      "https://images-na.ssl-images-amazon.com/images/I/41ygbhq127L._SL160_.jpg\n",
      "FeatherLite Ladies Long Sleeve Stain Resistant Tapered Twill Shirt, Pacific B.\n",
      "\n",
      "asin - B003BTOHHO , Brand - FeatherLite , Color - Pacific Blue\n",
      "https://images-na.ssl-images-amazon.com/images/I/41ygbhq127L._SL160_.jpg\n",
      "FeatherLite Ladies Long Sleeve Stain Resistant Tapered Twill Shirt, Pacific B.\n",
      "\n",
      "asin - B003BTOHG0 , Brand - FeatherLite , Color - Pacific Blue\n",
      "https://images-na.ssl-images-amazon.com/images/I/41ygbhq127L._SL160_.jpg\n",
      "FeatherLite Ladies Long Sleeve Stain Resistant Tapered Twill Shirt, Pacific B.\n",
      "\n"
     ]
    }
   ],
   "source": [
    "for duplicate in range(len(data['title'].duplicated())):\n",
    "    if data['title'].duplicated()[duplicate] == True:\n",
    "        duplicate_df = data[data['title'] == data['title'][duplicate]]\n",
    "        duplicate_df = duplicate_df.reset_index(drop=True)\n",
    "        break\n",
    "for i in range(duplicate_df.shape[0]):\n",
    "    print(\"asin - {0} , Brand - {1} , Color - {2}\".format(duplicate_df['asin'][i], duplicate_df['brand'][i], duplicate_df['color'][i]))\n",
    "    print(duplicate_df['medium_image_url'][i])\n",
    "    print(duplicate_df['title'][i])\n",
    "    print()\n",
    "    if i >= 5:\n",
    "        break"
   ]
  },
  {
   "attachments": {},
   "cell_type": "markdown",
   "id": "cf8043e7",
   "metadata": {},
   "source": [
    "- It is clear that except 'asin' every feature is same for 'title' feature.\n",
    "- So will drop all these duplicate titles."
   ]
  },
  {
   "cell_type": "code",
   "execution_count": 25,
   "id": "f3ca3add",
   "metadata": {},
   "outputs": [
    {
     "name": "stdout",
     "output_type": "stream",
     "text": [
      "Number of data points after eliminating duplicte titles : 61568\n"
     ]
    }
   ],
   "source": [
    "# Let's drop duplicate title\n",
    "data['title'] = data['title'].drop_duplicates()\n",
    "\n",
    "# Now we will drop records that have 'Null/None\" title.\n",
    "data = data.loc[~data['title'].isnull()]\n",
    "\n",
    "# Reset dataframe index.\n",
    "data = data.reset_index(drop=True)\n",
    "print('Number of data points after eliminating duplicte titles :', data.shape[0])"
   ]
  },
  {
   "attachments": {},
   "cell_type": "markdown",
   "id": "c529a5b3",
   "metadata": {},
   "source": [
    "# (7) \"formatted_price\" Feature "
   ]
  },
  {
   "cell_type": "code",
   "execution_count": 26,
   "id": "200b6395",
   "metadata": {},
   "outputs": [
    {
     "name": "stdout",
     "output_type": "stream",
     "text": [
      "Products  61568\n",
      "count      25955\n",
      "unique      3095\n",
      "top       $19.99\n",
      "freq         899\n",
      "Name: formatted_price, dtype: object\n",
      "- 35613 products does not have 'formatted_price' information.\n",
      "- 58472 products have same 'formatted_price' information.\n"
     ]
    }
   ],
   "source": [
    "print(\"Products \",data.shape[0])\n",
    "print(data['formatted_price'].describe())\n",
    "if data['formatted_price'].isnull().sum() == 0:\n",
    "    print(\"- All products have 'formatted_price' information\")\n",
    "else:\n",
    "    print(\"- {0} products does not have 'formatted_price' information.\".format(data['formatted_price'].isnull().sum()))\n",
    "if data['formatted_price'].duplicated().sum() == 0:\n",
    "    print(\"- Each products have unique 'formatted_price' information\")\n",
    "else:\n",
    "    print(\"- {0} products have same 'formatted_price' information.\".format(data['formatted_price'].duplicated().sum()))"
   ]
  },
  {
   "attachments": {},
   "cell_type": "markdown",
   "id": "38d6a153",
   "metadata": {},
   "source": [
    "- Only 25,955 (42.15%) products have price information.\n",
    "- 899 products have same price. That's \"$19.99\"\n",
    "- Some products have same price but different 'title','brand' and other informations.\n",
    "- So we will drop only those products which does not have price information."
   ]
  },
  {
   "cell_type": "code",
   "execution_count": 27,
   "id": "f114e6fc",
   "metadata": {},
   "outputs": [
    {
     "name": "stdout",
     "output_type": "stream",
     "text": [
      "Number of data points after eliminating formatted_price = NULL : 25955\n"
     ]
    }
   ],
   "source": [
    "data = data.loc[~data['formatted_price'].isnull()]\n",
    "\n",
    "# Reset dataframe index.\n",
    "data = data.reset_index(drop=True)\n",
    "print('Number of data points after eliminating formatted_price = NULL :', data.shape[0])"
   ]
  },
  {
   "cell_type": "code",
   "execution_count": 28,
   "id": "78627976",
   "metadata": {},
   "outputs": [
    {
     "name": "stdout",
     "output_type": "stream",
     "text": [
      "$19.99 - 899\n",
      "$9.99 - 664\n",
      "$9.50 - 541\n",
      "$14.99 - 412\n",
      "$24.99 - 400\n",
      "$7.50 - 395\n",
      "$29.99 - 355\n",
      "$16.99 - 288\n",
      "$12.99 - 273\n",
      "$8.99 - 263\n"
     ]
    }
   ],
   "source": [
    "# Lets print top 10 'formatted_price' and their frequency\n",
    "price_count = Counter(list(data['formatted_price']))\n",
    "for i in range(10):\n",
    "    print(\"{0} - {1}\".format(price_count.most_common()[i][0],price_count.most_common()[i][1])) "
   ]
  },
  {
   "attachments": {},
   "cell_type": "markdown",
   "id": "14952d95",
   "metadata": {},
   "source": [
    "- We brought down the number of data points from 183K to 25K."
   ]
  },
  {
   "cell_type": "code",
   "execution_count": 29,
   "id": "d10a4ff2",
   "metadata": {},
   "outputs": [],
   "source": [
    "data.to_csv('tops_fashion.csv',index=False)"
   ]
  },
  {
   "attachments": {},
   "cell_type": "markdown",
   "id": "22a27206",
   "metadata": {},
   "source": [
    "# F. Text Data Preprocessing"
   ]
  },
  {
   "cell_type": "code",
   "execution_count": 30,
   "id": "7ee29659",
   "metadata": {},
   "outputs": [
    {
     "name": "stdout",
     "output_type": "stream",
     "text": [
      "<class 'pandas.core.frame.DataFrame'>\n",
      "RangeIndex: 25863 entries, 0 to 25862\n",
      "Data columns (total 7 columns):\n",
      " #   Column             Non-Null Count  Dtype \n",
      "---  ------             --------------  ----- \n",
      " 0   asin               25863 non-null  object\n",
      " 1   brand              25863 non-null  object\n",
      " 2   medium_image_url   25863 non-null  object\n",
      " 3   product_type_name  25863 non-null  object\n",
      " 4   color              25863 non-null  object\n",
      " 5   title              25863 non-null  object\n",
      " 6   formatted_price    25863 non-null  object\n",
      "dtypes: object(7)\n",
      "memory usage: 1.4+ MB\n"
     ]
    }
   ],
   "source": [
    "# Title column for us is very important we will remove all the title with less than 4 words\n",
    "data=data[data['title'].apply(lambda x: len(x.split())>=4)]\n",
    "\n",
    "# Reset index of data farme.\n",
    "data = data.reset_index(drop=True)\n",
    "data.info()"
   ]
  },
  {
   "cell_type": "code",
   "execution_count": 31,
   "id": "e8cf0b61",
   "metadata": {},
   "outputs": [
    {
     "data": {
      "text/html": [
       "<div>\n",
       "<style scoped>\n",
       "    .dataframe tbody tr th:only-of-type {\n",
       "        vertical-align: middle;\n",
       "    }\n",
       "\n",
       "    .dataframe tbody tr th {\n",
       "        vertical-align: top;\n",
       "    }\n",
       "\n",
       "    .dataframe thead th {\n",
       "        text-align: right;\n",
       "    }\n",
       "</style>\n",
       "<table border=\"1\" class=\"dataframe\">\n",
       "  <thead>\n",
       "    <tr style=\"text-align: right;\">\n",
       "      <th></th>\n",
       "      <th>asin</th>\n",
       "      <th>brand</th>\n",
       "      <th>medium_image_url</th>\n",
       "      <th>product_type_name</th>\n",
       "      <th>color</th>\n",
       "      <th>title</th>\n",
       "      <th>formatted_price</th>\n",
       "    </tr>\n",
       "  </thead>\n",
       "  <tbody>\n",
       "    <tr>\n",
       "      <th>0</th>\n",
       "      <td>B06Y1KZ2WB</td>\n",
       "      <td>Éclair</td>\n",
       "      <td>https://images-na.ssl-images-amazon.com/images...</td>\n",
       "      <td>SHIRT</td>\n",
       "      <td>Black/Pink</td>\n",
       "      <td>Éclair Women's Printed Thin Strap Blouse Black...</td>\n",
       "      <td>$24.99</td>\n",
       "    </tr>\n",
       "    <tr>\n",
       "      <th>1</th>\n",
       "      <td>B010RV33VE</td>\n",
       "      <td>xiaoming</td>\n",
       "      <td>https://images-na.ssl-images-amazon.com/images...</td>\n",
       "      <td>SHIRT</td>\n",
       "      <td>Pink</td>\n",
       "      <td>xiaoming Womens Sleeveless Loose Long T-shirts...</td>\n",
       "      <td>$18.19</td>\n",
       "    </tr>\n",
       "    <tr>\n",
       "      <th>2</th>\n",
       "      <td>B01DDSDLNS</td>\n",
       "      <td>xiaoming</td>\n",
       "      <td>https://images-na.ssl-images-amazon.com/images...</td>\n",
       "      <td>SHIRT</td>\n",
       "      <td>White</td>\n",
       "      <td>xiaoming Women's White Long Sleeve Single Brea...</td>\n",
       "      <td>$21.58</td>\n",
       "    </tr>\n",
       "    <tr>\n",
       "      <th>3</th>\n",
       "      <td>B00X5LYO9Y</td>\n",
       "      <td>xiaoming</td>\n",
       "      <td>https://images-na.ssl-images-amazon.com/images...</td>\n",
       "      <td>SHIRT</td>\n",
       "      <td>Red Anchors</td>\n",
       "      <td>xiaoming Stripes Tank Patch/Bear Sleeve Anchor...</td>\n",
       "      <td>$15.91</td>\n",
       "    </tr>\n",
       "    <tr>\n",
       "      <th>4</th>\n",
       "      <td>B00WPJG35K</td>\n",
       "      <td>xiaoming</td>\n",
       "      <td>https://images-na.ssl-images-amazon.com/images...</td>\n",
       "      <td>SHIRT</td>\n",
       "      <td>White</td>\n",
       "      <td>xiaoming Sleeve Sheer Loose Tassel Kimono Woma...</td>\n",
       "      <td>$14.32</td>\n",
       "    </tr>\n",
       "  </tbody>\n",
       "</table>\n",
       "</div>"
      ],
      "text/plain": [
       "         asin     brand                                   medium_image_url  \\\n",
       "0  B06Y1KZ2WB    Éclair  https://images-na.ssl-images-amazon.com/images...   \n",
       "1  B010RV33VE  xiaoming  https://images-na.ssl-images-amazon.com/images...   \n",
       "2  B01DDSDLNS  xiaoming  https://images-na.ssl-images-amazon.com/images...   \n",
       "3  B00X5LYO9Y  xiaoming  https://images-na.ssl-images-amazon.com/images...   \n",
       "4  B00WPJG35K  xiaoming  https://images-na.ssl-images-amazon.com/images...   \n",
       "\n",
       "  product_type_name        color  \\\n",
       "0             SHIRT   Black/Pink   \n",
       "1             SHIRT         Pink   \n",
       "2             SHIRT        White   \n",
       "3             SHIRT  Red Anchors   \n",
       "4             SHIRT        White   \n",
       "\n",
       "                                               title formatted_price  \n",
       "0  Éclair Women's Printed Thin Strap Blouse Black...          $24.99  \n",
       "1  xiaoming Womens Sleeveless Loose Long T-shirts...          $18.19  \n",
       "2  xiaoming Women's White Long Sleeve Single Brea...          $21.58  \n",
       "3  xiaoming Stripes Tank Patch/Bear Sleeve Anchor...          $15.91  \n",
       "4  xiaoming Sleeve Sheer Loose Tassel Kimono Woma...          $14.32  "
      ]
     },
     "execution_count": 31,
     "metadata": {},
     "output_type": "execute_result"
    }
   ],
   "source": [
    "# now let's sort the data points based on title (in alphabetical descending order)\n",
    "data.sort_values(\"title\", inplace=True, ascending=False)\n",
    "data= data.reset_index(drop=True)\n",
    "data.head()"
   ]
  },
  {
   "attachments": {},
   "cell_type": "markdown",
   "id": "802a6f33",
   "metadata": {},
   "source": [
    "- We can observe that brand name also present in title text.\n",
    "- We are removing brand name from title text."
   ]
  },
  {
   "cell_type": "code",
   "execution_count": 32,
   "id": "d8037ed1",
   "metadata": {},
   "outputs": [
    {
     "data": {
      "text/plain": [
       "3600"
      ]
     },
     "execution_count": 32,
     "metadata": {},
     "output_type": "execute_result"
    }
   ],
   "source": [
    "brand_list = []\n",
    "for i in (data['brand'].unique()):\n",
    "    i = i.lower()\n",
    "    brand_list.append(i)\n",
    "# print(brand_list)\n",
    "len((brand_list))"
   ]
  },
  {
   "cell_type": "code",
   "execution_count": 33,
   "id": "0e645f9d",
   "metadata": {},
   "outputs": [
    {
     "name": "stdout",
     "output_type": "stream",
     "text": [
      "['i', 'me', 'my', 'myself', 'we', 'our', 'ours', 'ourselves', 'you', \"you're\", \"you've\", \"you'll\", \"you'd\", 'your', 'yours', 'yourself', 'yourselves', 'he', 'him', 'his', 'himself', 'she', \"she's\", 'her', 'hers', 'herself', 'it', \"it's\", 'its', 'itself', 'they', 'them', 'their', 'theirs', 'themselves', 'what', 'which', 'who', 'whom', 'this', 'that', \"that'll\", 'these', 'those', 'am', 'is', 'are', 'was', 'were', 'be', 'been', 'being', 'have', 'has', 'had', 'having', 'do', 'does', 'did', 'doing', 'a', 'an', 'the', 'and', 'but', 'if', 'or', 'because', 'as', 'until', 'while', 'of', 'at', 'by', 'for', 'with', 'about', 'against', 'between', 'into', 'through', 'during', 'before', 'after', 'above', 'below', 'to', 'from', 'up', 'down', 'in', 'out', 'on', 'off', 'over', 'under', 'again', 'further', 'then', 'once', 'here', 'there', 'when', 'where', 'why', 'how', 'all', 'any', 'both', 'each', 'few', 'more', 'most', 'other', 'some', 'such', 'no', 'nor', 'not', 'only', 'own', 'same', 'so', 'than', 'too', 'very', 's', 't', 'can', 'will', 'just', 'don', \"don't\", 'should', \"should've\", 'now', 'd', 'll', 'm', 'o', 're', 've', 'y', 'ain', 'aren', \"aren't\", 'couldn', \"couldn't\", 'didn', \"didn't\", 'doesn', \"doesn't\", 'hadn', \"hadn't\", 'hasn', \"hasn't\", 'haven', \"haven't\", 'isn', \"isn't\", 'ma', 'mightn', \"mightn't\", 'mustn', \"mustn't\", 'needn', \"needn't\", 'shan', \"shan't\", 'shouldn', \"shouldn't\", 'wasn', \"wasn't\", 'weren', \"weren't\", 'won', \"won't\", 'wouldn', \"wouldn't\"]\n"
     ]
    },
    {
     "name": "stderr",
     "output_type": "stream",
     "text": [
      "[nltk_data] Downloading package stopwords to\n",
      "[nltk_data]     C:\\Users\\admin\\AppData\\Roaming\\nltk_data...\n",
      "[nltk_data]   Package stopwords is already up-to-date!\n"
     ]
    }
   ],
   "source": [
    "nltk.download(\"stopwords\")\n",
    "nltk_stopwords = list(stopwords.words('english'))\n",
    "print(nltk_stopwords)"
   ]
  },
  {
   "cell_type": "code",
   "execution_count": 34,
   "id": "efd2ac45",
   "metadata": {},
   "outputs": [
    {
     "name": "stdout",
     "output_type": "stream",
     "text": [
      "['a', 'b', 'c', 'd', 'e', 'f', 'g', 'h', 'i', 'j', 'k', 'l', 'm', 'n', 'o', 'p', 'q', 'r', 's', 't', 'u', 'v', 'w', 'x', 'y', 'z']\n"
     ]
    }
   ],
   "source": [
    "import string\n",
    "alphabets = list(string.ascii_lowercase)\n",
    "print(alphabets)"
   ]
  },
  {
   "cell_type": "code",
   "execution_count": 35,
   "id": "b8f65c00",
   "metadata": {},
   "outputs": [
    {
     "data": {
      "text/plain": [
       "197"
      ]
     },
     "execution_count": 35,
     "metadata": {},
     "output_type": "execute_result"
    }
   ],
   "source": [
    "stop_words = nltk_stopwords + alphabets\n",
    "stop_words = set(stop_words)\n",
    "len(stop_words)"
   ]
  },
  {
   "cell_type": "code",
   "execution_count": 36,
   "id": "3fcd6f5a",
   "metadata": {},
   "outputs": [],
   "source": [
    "def nlp_preprocessing(total_text, index, column):\n",
    "    if type(total_text) is not int:\n",
    "        # Remove Brand name\n",
    "        no_brand_text=[]\n",
    "        for j in total_text.split():\n",
    "            j = j.lower()\n",
    "            if not j in brand_list:\n",
    "                no_brand_text.append(j)\n",
    "\n",
    "        # Remove special characters:\n",
    "        word=[]\n",
    "        for words in no_brand_text: \n",
    "            word.append(re.sub( '[^A-Za-z0-9]', ' ', words))\n",
    "\n",
    "        # seperate word having ' ' in word list.\n",
    "        seperate_word = []\n",
    "        for w in word:\n",
    "            if ' ' in w:\n",
    "                for i in w.split():\n",
    "                    x = seperate_word.append(i)\n",
    "            else:\n",
    "                x = seperate_word.append(w)\n",
    "\n",
    "        # get unique words from seperte_word list \n",
    "        unique_words = reduce(lambda re, x: re+[x] if x not in re else re, seperate_word, [])\n",
    "\n",
    "        # remove stop words and brand name from unique_words list:\n",
    "        string = \"\"\n",
    "        for word in unique_words:\n",
    "            if not word in stop_words :\n",
    "                string += word + \" \"\n",
    "        # add processed data to new column\n",
    "        data['processed_{0}'.format(column)][index] = string\n"
   ]
  },
  {
   "cell_type": "code",
   "execution_count": 37,
   "id": "4b0ef173",
   "metadata": {},
   "outputs": [
    {
     "name": "stdout",
     "output_type": "stream",
     "text": [
      "36.81906570000001 seconds\n"
     ]
    }
   ],
   "source": [
    "start_time = time.perf_counter()\n",
    "\n",
    "# make a new column as 'processed_column-name' and assign 'Nan' value.\n",
    "data['processed_title'] = np.nan\n",
    "\n",
    "# Processing title text to remove special characters and stop words and save it to new column.\n",
    "for index, row in data.iterrows():\n",
    "    nlp_preprocessing(row['title'], index, 'title')\n",
    "\n",
    "# Let's print time taken to complete this code snippet\n",
    "print(time.perf_counter() - start_time, \"seconds\")\n",
    "\n",
    "# It may takes more seconds"
   ]
  },
  {
   "cell_type": "code",
   "execution_count": 38,
   "id": "679e68ba",
   "metadata": {},
   "outputs": [
    {
     "data": {
      "text/html": [
       "<div>\n",
       "<style scoped>\n",
       "    .dataframe tbody tr th:only-of-type {\n",
       "        vertical-align: middle;\n",
       "    }\n",
       "\n",
       "    .dataframe tbody tr th {\n",
       "        vertical-align: top;\n",
       "    }\n",
       "\n",
       "    .dataframe thead th {\n",
       "        text-align: right;\n",
       "    }\n",
       "</style>\n",
       "<table border=\"1\" class=\"dataframe\">\n",
       "  <thead>\n",
       "    <tr style=\"text-align: right;\">\n",
       "      <th></th>\n",
       "      <th>asin</th>\n",
       "      <th>brand</th>\n",
       "      <th>medium_image_url</th>\n",
       "      <th>product_type_name</th>\n",
       "      <th>color</th>\n",
       "      <th>title</th>\n",
       "      <th>formatted_price</th>\n",
       "      <th>processed_title</th>\n",
       "    </tr>\n",
       "  </thead>\n",
       "  <tbody>\n",
       "    <tr>\n",
       "      <th>0</th>\n",
       "      <td>B06Y1KZ2WB</td>\n",
       "      <td>Éclair</td>\n",
       "      <td>https://images-na.ssl-images-amazon.com/images...</td>\n",
       "      <td>SHIRT</td>\n",
       "      <td>Black/Pink</td>\n",
       "      <td>Éclair Women's Printed Thin Strap Blouse Black...</td>\n",
       "      <td>$24.99</td>\n",
       "      <td>women printed thin strap blouse junior</td>\n",
       "    </tr>\n",
       "    <tr>\n",
       "      <th>1</th>\n",
       "      <td>B010RV33VE</td>\n",
       "      <td>xiaoming</td>\n",
       "      <td>https://images-na.ssl-images-amazon.com/images...</td>\n",
       "      <td>SHIRT</td>\n",
       "      <td>Pink</td>\n",
       "      <td>xiaoming Womens Sleeveless Loose Long T-shirts...</td>\n",
       "      <td>$18.19</td>\n",
       "      <td>womens sleeveless loose long shirts top blouse</td>\n",
       "    </tr>\n",
       "    <tr>\n",
       "      <th>2</th>\n",
       "      <td>B01DDSDLNS</td>\n",
       "      <td>xiaoming</td>\n",
       "      <td>https://images-na.ssl-images-amazon.com/images...</td>\n",
       "      <td>SHIRT</td>\n",
       "      <td>White</td>\n",
       "      <td>xiaoming Women's White Long Sleeve Single Brea...</td>\n",
       "      <td>$21.58</td>\n",
       "      <td>women white long sleeve single breast loose co...</td>\n",
       "    </tr>\n",
       "    <tr>\n",
       "      <th>3</th>\n",
       "      <td>B00X5LYO9Y</td>\n",
       "      <td>xiaoming</td>\n",
       "      <td>https://images-na.ssl-images-amazon.com/images...</td>\n",
       "      <td>SHIRT</td>\n",
       "      <td>Red Anchors</td>\n",
       "      <td>xiaoming Stripes Tank Patch/Bear Sleeve Anchor...</td>\n",
       "      <td>$15.91</td>\n",
       "      <td>stripes tank patch bear sleeve anchor short em...</td>\n",
       "    </tr>\n",
       "    <tr>\n",
       "      <th>4</th>\n",
       "      <td>B00WPJG35K</td>\n",
       "      <td>xiaoming</td>\n",
       "      <td>https://images-na.ssl-images-amazon.com/images...</td>\n",
       "      <td>SHIRT</td>\n",
       "      <td>White</td>\n",
       "      <td>xiaoming Sleeve Sheer Loose Tassel Kimono Woma...</td>\n",
       "      <td>$14.32</td>\n",
       "      <td>sleeve sheer loose tassel kimono woman chiffon...</td>\n",
       "    </tr>\n",
       "  </tbody>\n",
       "</table>\n",
       "</div>"
      ],
      "text/plain": [
       "         asin     brand                                   medium_image_url  \\\n",
       "0  B06Y1KZ2WB    Éclair  https://images-na.ssl-images-amazon.com/images...   \n",
       "1  B010RV33VE  xiaoming  https://images-na.ssl-images-amazon.com/images...   \n",
       "2  B01DDSDLNS  xiaoming  https://images-na.ssl-images-amazon.com/images...   \n",
       "3  B00X5LYO9Y  xiaoming  https://images-na.ssl-images-amazon.com/images...   \n",
       "4  B00WPJG35K  xiaoming  https://images-na.ssl-images-amazon.com/images...   \n",
       "\n",
       "  product_type_name        color  \\\n",
       "0             SHIRT   Black/Pink   \n",
       "1             SHIRT         Pink   \n",
       "2             SHIRT        White   \n",
       "3             SHIRT  Red Anchors   \n",
       "4             SHIRT        White   \n",
       "\n",
       "                                               title formatted_price  \\\n",
       "0  Éclair Women's Printed Thin Strap Blouse Black...          $24.99   \n",
       "1  xiaoming Womens Sleeveless Loose Long T-shirts...          $18.19   \n",
       "2  xiaoming Women's White Long Sleeve Single Brea...          $21.58   \n",
       "3  xiaoming Stripes Tank Patch/Bear Sleeve Anchor...          $15.91   \n",
       "4  xiaoming Sleeve Sheer Loose Tassel Kimono Woma...          $14.32   \n",
       "\n",
       "                                     processed_title  \n",
       "0            women printed thin strap blouse junior   \n",
       "1    womens sleeveless loose long shirts top blouse   \n",
       "2  women white long sleeve single breast loose co...  \n",
       "3  stripes tank patch bear sleeve anchor short em...  \n",
       "4  sleeve sheer loose tassel kimono woman chiffon...  "
      ]
     },
     "execution_count": 38,
     "metadata": {},
     "output_type": "execute_result"
    }
   ],
   "source": [
    "data.head()"
   ]
  },
  {
   "cell_type": "code",
   "execution_count": 39,
   "id": "e03f87c6",
   "metadata": {},
   "outputs": [
    {
     "name": "stdout",
     "output_type": "stream",
     "text": [
      "0 Éclair Women's Printed Thin Strap Blouse Black - Junior XL\n",
      "- women printed thin strap blouse junior \n",
      "1 xiaoming Womens Sleeveless Loose Long T-shirts Top Blouse Shirts\n",
      "- womens sleeveless loose long shirts top blouse \n",
      "2 xiaoming Women's White Long Sleeve Single Breast Loose Cotton Linen Blouse Shirt\n",
      "- women white long sleeve single breast loose cotton linen blouse shirt \n",
      "3 xiaoming Stripes Tank Patch/Bear Sleeve Anchor Short Embellishment Top Red Ancho\n",
      "- stripes tank patch bear sleeve anchor short embellishment top red ancho \n",
      "4 xiaoming Sleeve Sheer Loose Tassel Kimono Woman Chiffon Cardigan Blouse White On\n",
      "- sleeve sheer loose tassel kimono woman chiffon cardigan blouse white \n"
     ]
    }
   ],
   "source": [
    "# let's check processed titles with original title\n",
    "for i in range(5):\n",
    "    print(i,data['title'][i])\n",
    "    print(\"-\",data['processed_title'][i])"
   ]
  },
  {
   "cell_type": "code",
   "execution_count": 40,
   "id": "444fa7c4",
   "metadata": {},
   "outputs": [
    {
     "name": "stdout",
     "output_type": "stream",
     "text": [
      "0 Éclair Women's Printed Thin Strap Blouse Black - Junior XL\n",
      "1 xiaoming Womens Sleeveless Loose Long T-shirts Top Blouse Shirts\n",
      "2 xiaoming Women's White Long Sleeve Single Breast Loose Cotton Linen Blouse Shirt\n",
      "3 xiaoming Stripes Tank Patch/Bear Sleeve Anchor Short Embellishment Top Red Ancho\n",
      "4 xiaoming Sleeve Sheer Loose Tassel Kimono Woman Chiffon Cardigan Blouse White On\n",
      "5 xiaoming Sleeve Plaid Checked Casual Tops Shirt Women Loose T Long Blouse Red+Gr\n",
      "6 xiaoming Shirt Black Blouse Casual Oversized Women's T Loose Large Tops Figure C\n",
      "7 xiaoming Casual Women Long Loose Sleeve Shirt Neck Draped Blouse Yellow Large /\n",
      "8 xiaoming Casual Sleeve Womens Shirt Lace Chiffon Short Top Yellow Medium / US4-U\n",
      "9 xiaoming Blazer Womens Style Cape Hippie Loose Kimono Jacket red+whtie L US6\n",
      "10 xiaoming And Flare Women Long Sleeve Fit Tops Peplum Top Neck Tops Top Blue Medi\n",
      "11 xhilaration Womens' Long Sleeve Sleep Shirt, Purple/Raccoon, Medium\n",
      "12 xhilaration Womens' Long Sleeve Sleep Shirt, Bubble Gum Pink, X-Large\n",
      "13 xhilaration Womens' Long Sleeve Sleep Shirt, Bubble Gum Pink, Small\n",
      "14 womens button up shirt with sheer detail\n",
      "15 woman's western shirt black xl 211-1102\n",
      "16 woman's place is in the house and the senate shirts for Womens XXL White\n",
      "17 woman's place is in the house and the senate shirts for Womens M Grey\n",
      "18 western turquoise blouse with front and back yokes size medium 211-1121\n",
      "19 wallpapher Women's Medium Tank Cami Printed Sharkbit Top Black M\n"
     ]
    }
   ],
   "source": [
    "# Let's see similar title in first 40 products.\n",
    "for i in range(20):\n",
    "    print(i,data['title'][i])"
   ]
  },
  {
   "cell_type": "code",
   "execution_count": 41,
   "id": "444fa7c4",
   "metadata": {},
   "outputs": [
    {
     "name": "stdout",
     "output_type": "stream",
     "text": [
      "20 virblatt batwing top as hippie clothes for women - Namasté\n",
      "21 vihaan impex kurtis for women indian kurti for women kurtas for women indian kurtis\n",
      "22 vanberfia Women's Sexy O Neck Casual Blouse Tops Lace Long Sleeve Blouse Tops (M, 8720)\n",
      "23 underfell skele bros Women's DIY Customize T-shirt,Black (X-Large,Black,X-large,black)\n",
      "24 tokidoki The Queen of Diamonds Women's Shirt X-Large\n",
      "25 tokidoki The Queen of Diamonds Women's Shirt Small\n",
      "26 tokidoki The Queen of Diamonds Women's Shirt Large\n",
      "27 tokidoki Skateboard Latte Women's Shirt Medium\n",
      "28 tokidoki Ninja Dog Womens Shirt Small\n",
      "29 tokidoki Harmony Women's Shirt Small\n",
      "30 tokidoki Chica Polka Dot Women's Tank Top Medium\n",
      "31 thistle purple Lao Laos Sleeveless Blouse Classic Neckline Tops Size 38 M SL38E\n",
      "32 thistle purple Lao Laos Sleeveless Blouse Classic Neckline Tops Size 36 M SL36I\n",
      "33 the godfather with toys black for 2X-Large White woman T shirt\n",
      "34 tank top with lace and double straps\n",
      "35 summer Women's O-Neck white Backless BKY13-014\n",
      "36 style&co women three quarter sleeve printed striped top size 1x london town\n",
      "37 style&co women tab sleeve sequin tee plus size 1x pacific aqua\n",
      "38 style&co women sublimated handkerchief hem top plus size 0x new outlook\n",
      "39 style&co women sport short sleeve polka dot tee size xlarge wht truffle/blk\n"
     ]
    }
   ],
   "source": [
    "for i in range(20,40):\n",
    "    print(i,data['title'][i])"
   ]
  },
  {
   "attachments": {},
   "cell_type": "markdown",
   "id": "4973d0dd",
   "metadata": {},
   "source": [
    "- For dataframe arranged in descending order we found that product index numbers (12,13), (24,25,26), (31,32) have similar name but that products differ in size only.\n",
    "- Let's see there image and title name:"
   ]
  },
  {
   "cell_type": "code",
   "execution_count": 42,
   "id": "10abd625",
   "metadata": {},
   "outputs": [],
   "source": [
    "# function to display image of product using 'medium_image_url' of product.\n",
    "def display_img(url):\n",
    "    # we will use  'medium_imge_url' of the product.\n",
    "    fig = plt.figure(figsize=(25,3))\n",
    "    response = requests.get(url)\n",
    "    img = Image.open(BytesIO(response.content))\n",
    "    plt.imshow(img)\n",
    "    plt.show()"
   ]
  },
  {
   "cell_type": "code",
   "execution_count": 43,
   "id": "6cb101ca",
   "metadata": {},
   "outputs": [
    {
     "name": "stdout",
     "output_type": "stream",
     "text": [
      "12 xhilaration Womens' Long Sleeve Sleep Shirt, Bubble Gum Pink, X-Large\n",
      "https://images-na.ssl-images-amazon.com/images/I/41f-Fvet3tL._SL160_.jpg\n"
     ]
    },
    {
     "data": {
      "image/png": "[encoded data removed]",
      "text/plain": [
       "<Figure size 1800x216 with 1 Axes>"
      ]
     },
     "metadata": {
      "needs_background": "light"
     },
     "output_type": "display_data"
    },
    {
     "name": "stdout",
     "output_type": "stream",
     "text": [
      "13 xhilaration Womens' Long Sleeve Sleep Shirt, Bubble Gum Pink, Small\n",
      "https://images-na.ssl-images-amazon.com/images/I/41f-Fvet3tL._SL160_.jpg\n"
     ]
    },
    {
     "data": {
      "image/png": "[encoded data removed]",
      "text/plain": [
       "<Figure size 1800x216 with 1 Axes>"
      ]
     },
     "metadata": {
      "needs_background": "light"
     },
     "output_type": "display_data"
    },
    {
     "name": "stdout",
     "output_type": "stream",
     "text": [
      "24 tokidoki The Queen of Diamonds Women's Shirt X-Large\n",
      "https://images-na.ssl-images-amazon.com/images/I/51wUlfCdaEL._SL160_.jpg\n"
     ]
    },
    {
     "data": {
      "image/png": "[encoded data removed]",
      "text/plain": [
       "<Figure size 1800x216 with 1 Axes>"
      ]
     },
     "metadata": {
      "needs_background": "light"
     },
     "output_type": "display_data"
    },
    {
     "name": "stdout",
     "output_type": "stream",
     "text": [
      "25 tokidoki The Queen of Diamonds Women's Shirt Small\n",
      "https://images-na.ssl-images-amazon.com/images/I/51UjkpxA4HL._SL160_.jpg\n"
     ]
    },
    {
     "data": {
      "image/png": "[encoded data removed]",
      "text/plain": [
       "<Figure size 1800x216 with 1 Axes>"
      ]
     },
     "metadata": {
      "needs_background": "light"
     },
     "output_type": "display_data"
    },
    {
     "name": "stdout",
     "output_type": "stream",
     "text": [
      "26 tokidoki The Queen of Diamonds Women's Shirt Large\n",
      "https://images-na.ssl-images-amazon.com/images/I/51UjkpxA4HL._SL160_.jpg\n"
     ]
    },
    {
     "data": {
      "image/png": "[encoded data removed]",
      "text/plain": [
       "<Figure size 1800x216 with 1 Axes>"
      ]
     },
     "metadata": {
      "needs_background": "light"
     },
     "output_type": "display_data"
    },
    {
     "name": "stdout",
     "output_type": "stream",
     "text": [
      "31 thistle purple Lao Laos Sleeveless Blouse Classic Neckline Tops Size 38 M SL38E\n",
      "https://images-na.ssl-images-amazon.com/images/I/51X1vA7TJLL._SL160_.jpg\n"
     ]
    },
    {
     "data": {
      "image/png": "[encoded data removed]",
      "text/plain": [
       "<Figure size 1800x216 with 1 Axes>"
      ]
     },
     "metadata": {
      "needs_background": "light"
     },
     "output_type": "display_data"
    },
    {
     "name": "stdout",
     "output_type": "stream",
     "text": [
      "32 thistle purple Lao Laos Sleeveless Blouse Classic Neckline Tops Size 36 M SL36I\n",
      "https://images-na.ssl-images-amazon.com/images/I/51mtjy%2BDJJL._SL160_.jpg\n"
     ]
    },
    {
     "data": {
      "image/png": "[encoded data removed]",
      "text/plain": [
       "<Figure size 1800x216 with 1 Axes>"
      ]
     },
     "metadata": {
      "needs_background": "light"
     },
     "output_type": "display_data"
    }
   ],
   "source": [
    "# Let's print title and image for record numbers 12,13,24,25,26,31,32\n",
    "for i in [12,13,24,25,26,31,32]:\n",
    "    print(i,data['title'][i])\n",
    "    print(data['medium_image_url'][i])\n",
    "    display_img(data['medium_image_url'][i])"
   ]
  },
  {
   "attachments": {},
   "cell_type": "markdown",
   "id": "ebd9164f",
   "metadata": {},
   "source": [
    "- It is clear that, product title is nearly same but size is different.\n",
    "- So, in such cases, we will consider only the first product and eliminate the rest of the products of various sizes.\n",
    "- We can eliminate such similar products in two ways. Either by removing duplicate duplicate URLs or by processing the title.\n",
    "- For first 2 products URL is same but for last 2 products URl is different.\n",
    "- So to remove duplicate product we have to use another way i.e. processing similar titles.\n",
    "- Hence we have to use another way i.e. processing on similar title to remove duplicte product.\n",
    "- Otherwise we can first remove similar URLs and then process the same title to remove similar products of different sizes.\n",
    "- Perhaps this method will take less time and will not put too much load on the CPU."
   ]
  },
  {
   "cell_type": "code",
   "execution_count": 44,
   "id": "d93a6393",
   "metadata": {},
   "outputs": [
    {
     "name": "stdout",
     "output_type": "stream",
     "text": [
      "Number of data points before eliminating duplicte url : 25863\n",
      "Number of data points after eliminating duplicte url : 19072\n"
     ]
    }
   ],
   "source": [
    "print('Number of data points before eliminating duplicte url :', data.shape[0])\n",
    "\n",
    "# Let's drop duplicate title\n",
    "data['medium_image_url'] = data['medium_image_url'].drop_duplicates()\n",
    "\n",
    "# Now we will drop records that have 'Null/None\" title.\n",
    "data = data.loc[~data['medium_image_url'].isnull()]\n",
    "\n",
    "# Reset dataframe index.\n",
    "data = data.reset_index(drop=True)\n",
    "print('Number of data points after eliminating duplicte url :', data.shape[0])"
   ]
  },
  {
   "attachments": {},
   "cell_type": "markdown",
   "id": "41660003",
   "metadata": {},
   "source": [
    "- Now we will process title using following code snippet"
   ]
  },
  {
   "cell_type": "code",
   "execution_count": 45,
   "id": "464d33db",
   "metadata": {},
   "outputs": [],
   "source": [
    "import itertools\n",
    "\n",
    "indices = []\n",
    "for i,row in data.iterrows():\n",
    "    indices.append(i)\n",
    "\n",
    "different_titles = []\n",
    "i = 0\n",
    "j = 0\n",
    "data_points = data.shape[0]\n",
    "while i < data_points and j < data_points:\n",
    "    previous_i = i\n",
    "    # store the list of words of ith string in a.\n",
    "    a = data['processed_title'].loc[indices[i]].split()\n",
    "\n",
    "    # search for the similar products sequentially in dataframe\n",
    "    j = i+1\n",
    "    while j < data_points:\n",
    "\n",
    "        # store the list of words of jth string in b.\n",
    "        b = data['processed_title'].loc[indices[j]].split()\n",
    "\n",
    "        # store the maximum length of two strings\n",
    "        length = max(len(a), len(b))\n",
    "\n",
    "        # count is used to store the number of words that are matched in both strings\n",
    "        count  = 0\n",
    "\n",
    "        # itertools.zip_longest(a,b): will map the corresponding words in both strings, it will appened None in case of unequal strings\n",
    "        for k in itertools.zip_longest(a,b): \n",
    "            if (k[0] == k[1]):\n",
    "                count += 1\n",
    "\n",
    "        # if the number of words in both strings differ by more than 2, we are considering it as those two apperals are different.\n",
    "        # if the number of words in both strings differ by less than 2, we are considering it as those two apperals are same, hence we are ignoring them.\n",
    "        if (length - count) > 2:  \n",
    "            # if both strings differ by more than 2 words we include the 1st string index\n",
    "            different_titles.append(data['asin'].loc[indices[i]])        \n",
    "\n",
    "            # if the comaprision is between last and second last index strings and they differ by more than 2 words we include both\n",
    "            if j == data_points-1:\n",
    "                different_titles.append(data['asin'].loc[indices[j]])\n",
    "\n",
    "            # start searching for similar apperals corresponds to 2nd string\n",
    "            i = j\n",
    "            break\n",
    "        else:\n",
    "            j += 1\n",
    "    if previous_i == i:\n",
    "        break"
   ]
  },
  {
   "cell_type": "code",
   "execution_count": 46,
   "id": "bb91612a",
   "metadata": {},
   "outputs": [
    {
     "name": "stdout",
     "output_type": "stream",
     "text": [
      "Number of data points after processing titles : 16119\n"
     ]
    }
   ],
   "source": [
    "data = data.loc[data['asin'].isin(different_titles)]\n",
    "data = data.reset_index(drop=True)\n",
    "print('Number of data points after processing titles :', data.shape[0])"
   ]
  },
  {
   "cell_type": "code",
   "execution_count": 47,
   "id": "61f504d7",
   "metadata": {},
   "outputs": [
    {
     "name": "stdout",
     "output_type": "stream",
     "text": [
      "0 Éclair Women's Printed Thin Strap Blouse Black - Junior XL\n",
      "1 xiaoming Womens Sleeveless Loose Long T-shirts Top Blouse Shirts\n",
      "2 xiaoming Women's White Long Sleeve Single Breast Loose Cotton Linen Blouse Shirt\n",
      "3 xiaoming Stripes Tank Patch/Bear Sleeve Anchor Short Embellishment Top Red Ancho\n",
      "4 xiaoming Sleeve Sheer Loose Tassel Kimono Woman Chiffon Cardigan Blouse White On\n",
      "5 xiaoming Sleeve Plaid Checked Casual Tops Shirt Women Loose T Long Blouse Red+Gr\n",
      "6 xiaoming Shirt Black Blouse Casual Oversized Women's T Loose Large Tops Figure C\n",
      "7 xiaoming Casual Women Long Loose Sleeve Shirt Neck Draped Blouse Yellow Large /\n",
      "8 xiaoming Casual Sleeve Womens Shirt Lace Chiffon Short Top Yellow Medium / US4-U\n",
      "9 xiaoming Blazer Womens Style Cape Hippie Loose Kimono Jacket red+whtie L US6\n",
      "10 xiaoming And Flare Women Long Sleeve Fit Tops Peplum Top Neck Tops Top Blue Medi\n",
      "11 xhilaration Womens' Long Sleeve Sleep Shirt, Purple/Raccoon, Medium\n",
      "12 xhilaration Womens' Long Sleeve Sleep Shirt, Bubble Gum Pink, X-Large\n",
      "13 womens button up shirt with sheer detail\n",
      "14 woman's western shirt black xl 211-1102\n",
      "15 woman's place is in the house and the senate shirts for Womens XXL White\n",
      "16 western turquoise blouse with front and back yokes size medium 211-1121\n",
      "17 wallpapher Women's Medium Tank Cami Printed Sharkbit Top Black M\n",
      "18 virblatt batwing top as hippie clothes for women - Namasté\n",
      "19 vihaan impex kurtis for women indian kurti for women kurtas for women indian kurtis\n",
      "20 vanberfia Women's Sexy O Neck Casual Blouse Tops Lace Long Sleeve Blouse Tops (M, 8720)\n",
      "21 underfell skele bros Women's DIY Customize T-shirt,Black (X-Large,Black,X-large,black)\n",
      "22 tokidoki The Queen of Diamonds Women's Shirt X-Large\n",
      "23 tokidoki Skateboard Latte Women's Shirt Medium\n",
      "24 tokidoki Ninja Dog Womens Shirt Small\n",
      "25 tokidoki Harmony Women's Shirt Small\n"
     ]
    }
   ],
   "source": [
    "for i in range(26):\n",
    "    print(i,data['title'][i])"
   ]
  },
  {
   "attachments": {},
   "cell_type": "markdown",
   "id": "5faecb07",
   "metadata": {},
   "source": [
    "- We removed similar product having different sizes.\n",
    "- Let's save dataset in pickle format to use it during model building."
   ]
  },
  {
   "cell_type": "code",
   "execution_count": 48,
   "id": "7762b00a",
   "metadata": {},
   "outputs": [],
   "source": [
    "data.to_pickle('16k_processed_data')"
   ]
  },
  {
   "cell_type": "code",
   "execution_count": 49,
   "id": "84310cfa",
   "metadata": {},
   "outputs": [
    {
     "data": {
      "text/html": [
       "<div>\n",
       "<style scoped>\n",
       "    .dataframe tbody tr th:only-of-type {\n",
       "        vertical-align: middle;\n",
       "    }\n",
       "\n",
       "    .dataframe tbody tr th {\n",
       "        vertical-align: top;\n",
       "    }\n",
       "\n",
       "    .dataframe thead th {\n",
       "        text-align: right;\n",
       "    }\n",
       "</style>\n",
       "<table border=\"1\" class=\"dataframe\">\n",
       "  <thead>\n",
       "    <tr style=\"text-align: right;\">\n",
       "      <th></th>\n",
       "      <th>asin</th>\n",
       "      <th>brand</th>\n",
       "      <th>medium_image_url</th>\n",
       "      <th>product_type_name</th>\n",
       "      <th>color</th>\n",
       "      <th>title</th>\n",
       "      <th>formatted_price</th>\n",
       "      <th>processed_title</th>\n",
       "    </tr>\n",
       "  </thead>\n",
       "  <tbody>\n",
       "    <tr>\n",
       "      <th>0</th>\n",
       "      <td>B06Y1KZ2WB</td>\n",
       "      <td>Éclair</td>\n",
       "      <td>https://images-na.ssl-images-amazon.com/images...</td>\n",
       "      <td>SHIRT</td>\n",
       "      <td>Black/Pink</td>\n",
       "      <td>Éclair Women's Printed Thin Strap Blouse Black...</td>\n",
       "      <td>$24.99</td>\n",
       "      <td>women printed thin strap blouse junior</td>\n",
       "    </tr>\n",
       "    <tr>\n",
       "      <th>1</th>\n",
       "      <td>B010RV33VE</td>\n",
       "      <td>xiaoming</td>\n",
       "      <td>https://images-na.ssl-images-amazon.com/images...</td>\n",
       "      <td>SHIRT</td>\n",
       "      <td>Pink</td>\n",
       "      <td>xiaoming Womens Sleeveless Loose Long T-shirts...</td>\n",
       "      <td>$18.19</td>\n",
       "      <td>womens sleeveless loose long shirts top blouse</td>\n",
       "    </tr>\n",
       "    <tr>\n",
       "      <th>2</th>\n",
       "      <td>B01DDSDLNS</td>\n",
       "      <td>xiaoming</td>\n",
       "      <td>https://images-na.ssl-images-amazon.com/images...</td>\n",
       "      <td>SHIRT</td>\n",
       "      <td>White</td>\n",
       "      <td>xiaoming Women's White Long Sleeve Single Brea...</td>\n",
       "      <td>$21.58</td>\n",
       "      <td>women white long sleeve single breast loose co...</td>\n",
       "    </tr>\n",
       "    <tr>\n",
       "      <th>3</th>\n",
       "      <td>B00X5LYO9Y</td>\n",
       "      <td>xiaoming</td>\n",
       "      <td>https://images-na.ssl-images-amazon.com/images...</td>\n",
       "      <td>SHIRT</td>\n",
       "      <td>Red Anchors</td>\n",
       "      <td>xiaoming Stripes Tank Patch/Bear Sleeve Anchor...</td>\n",
       "      <td>$15.91</td>\n",
       "      <td>stripes tank patch bear sleeve anchor short em...</td>\n",
       "    </tr>\n",
       "    <tr>\n",
       "      <th>4</th>\n",
       "      <td>B00WPJG35K</td>\n",
       "      <td>xiaoming</td>\n",
       "      <td>https://images-na.ssl-images-amazon.com/images...</td>\n",
       "      <td>SHIRT</td>\n",
       "      <td>White</td>\n",
       "      <td>xiaoming Sleeve Sheer Loose Tassel Kimono Woma...</td>\n",
       "      <td>$14.32</td>\n",
       "      <td>sleeve sheer loose tassel kimono woman chiffon...</td>\n",
       "    </tr>\n",
       "  </tbody>\n",
       "</table>\n",
       "</div>"
      ],
      "text/plain": [
       "         asin     brand                                   medium_image_url  \\\n",
       "0  B06Y1KZ2WB    Éclair  https://images-na.ssl-images-amazon.com/images...   \n",
       "1  B010RV33VE  xiaoming  https://images-na.ssl-images-amazon.com/images...   \n",
       "2  B01DDSDLNS  xiaoming  https://images-na.ssl-images-amazon.com/images...   \n",
       "3  B00X5LYO9Y  xiaoming  https://images-na.ssl-images-amazon.com/images...   \n",
       "4  B00WPJG35K  xiaoming  https://images-na.ssl-images-amazon.com/images...   \n",
       "\n",
       "  product_type_name        color  \\\n",
       "0             SHIRT   Black/Pink   \n",
       "1             SHIRT         Pink   \n",
       "2             SHIRT        White   \n",
       "3             SHIRT  Red Anchors   \n",
       "4             SHIRT        White   \n",
       "\n",
       "                                               title formatted_price  \\\n",
       "0  Éclair Women's Printed Thin Strap Blouse Black...          $24.99   \n",
       "1  xiaoming Womens Sleeveless Loose Long T-shirts...          $18.19   \n",
       "2  xiaoming Women's White Long Sleeve Single Brea...          $21.58   \n",
       "3  xiaoming Stripes Tank Patch/Bear Sleeve Anchor...          $15.91   \n",
       "4  xiaoming Sleeve Sheer Loose Tassel Kimono Woma...          $14.32   \n",
       "\n",
       "                                     processed_title  \n",
       "0            women printed thin strap blouse junior   \n",
       "1    womens sleeveless loose long shirts top blouse   \n",
       "2  women white long sleeve single breast loose co...  \n",
       "3  stripes tank patch bear sleeve anchor short em...  \n",
       "4  sleeve sheer loose tassel kimono woman chiffon...  "
      ]
     },
     "execution_count": 49,
     "metadata": {},
     "output_type": "execute_result"
    }
   ],
   "source": [
    "data.head()"
   ]
  }
 ],
 "metadata": {
  "kernelspec": {
   "display_name": "Python 3",
   "language": "python",
   "name": "python3"
  },
  "language_info": {
   "codemirror_mode": {
    "name": "ipython",
    "version": 3
   },
   "file_extension": ".py",
   "mimetype": "text/x-python",
   "name": "python",
   "nbconvert_exporter": "python",
   "pygments_lexer": "ipython3",
   "version": "3.10.4"
  },
  "vscode": {
   "interpreter": {
    "hash": "beedbe2faf2f7048d727558d0bc3221e7eba2a0b921cac4d4771b2feb8f74b30"
   }
  }
 },
 "nbformat": 4,
 "nbformat_minor": 5
}
